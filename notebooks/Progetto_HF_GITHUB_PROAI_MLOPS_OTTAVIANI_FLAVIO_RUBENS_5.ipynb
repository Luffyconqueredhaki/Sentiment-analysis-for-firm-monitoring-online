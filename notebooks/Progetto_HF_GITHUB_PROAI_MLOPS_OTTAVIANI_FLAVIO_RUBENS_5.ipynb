{
  "nbformat": 4,
  "nbformat_minor": 0,
  "metadata": {
    "colab": {
      "provenance": [],
      "gpuType": "L4",
      "machine_shape": "hm"
    },
    "kernelspec": {
      "name": "python3",
      "display_name": "Python 3"
    },
    "language_info": {
      "name": "python"
    },
    "accelerator": "GPU",
    "widgets": {
      "application/vnd.jupyter.widget-state+json": {
        "aa38ba0c9d514c9c89a32f7654d2c99f": {
          "model_module": "@jupyter-widgets/controls",
          "model_name": "HBoxModel",
          "model_module_version": "1.5.0",
          "state": {
            "_dom_classes": [],
            "_model_module": "@jupyter-widgets/controls",
            "_model_module_version": "1.5.0",
            "_model_name": "HBoxModel",
            "_view_count": null,
            "_view_module": "@jupyter-widgets/controls",
            "_view_module_version": "1.5.0",
            "_view_name": "HBoxView",
            "box_style": "",
            "children": [
              "IPY_MODEL_3d1168c6fe5544bbb5f9f19f506a4d85",
              "IPY_MODEL_2eb50adff6e644d98607ce590aae42bf",
              "IPY_MODEL_511f0a842b08434181490c1ecad18b5c"
            ],
            "layout": "IPY_MODEL_13928632ba174447a1ef2d0826c12318"
          }
        },
        "3d1168c6fe5544bbb5f9f19f506a4d85": {
          "model_module": "@jupyter-widgets/controls",
          "model_name": "HTMLModel",
          "model_module_version": "1.5.0",
          "state": {
            "_dom_classes": [],
            "_model_module": "@jupyter-widgets/controls",
            "_model_module_version": "1.5.0",
            "_model_name": "HTMLModel",
            "_view_count": null,
            "_view_module": "@jupyter-widgets/controls",
            "_view_module_version": "1.5.0",
            "_view_name": "HTMLView",
            "description": "",
            "description_tooltip": null,
            "layout": "IPY_MODEL_0ebc5ebfa08948eb9b38702844efc02a",
            "placeholder": "​",
            "style": "IPY_MODEL_914ff06f2e834e47b6b0a25bdbedf58e",
            "value": "Map: 100%"
          }
        },
        "2eb50adff6e644d98607ce590aae42bf": {
          "model_module": "@jupyter-widgets/controls",
          "model_name": "FloatProgressModel",
          "model_module_version": "1.5.0",
          "state": {
            "_dom_classes": [],
            "_model_module": "@jupyter-widgets/controls",
            "_model_module_version": "1.5.0",
            "_model_name": "FloatProgressModel",
            "_view_count": null,
            "_view_module": "@jupyter-widgets/controls",
            "_view_module_version": "1.5.0",
            "_view_name": "ProgressView",
            "bar_style": "success",
            "description": "",
            "description_tooltip": null,
            "layout": "IPY_MODEL_90c2dee805a14d518624f49cd046627f",
            "max": 8500,
            "min": 0,
            "orientation": "horizontal",
            "style": "IPY_MODEL_3395c349cdf34bebb20870b0221b5dbd",
            "value": 8500
          }
        },
        "511f0a842b08434181490c1ecad18b5c": {
          "model_module": "@jupyter-widgets/controls",
          "model_name": "HTMLModel",
          "model_module_version": "1.5.0",
          "state": {
            "_dom_classes": [],
            "_model_module": "@jupyter-widgets/controls",
            "_model_module_version": "1.5.0",
            "_model_name": "HTMLModel",
            "_view_count": null,
            "_view_module": "@jupyter-widgets/controls",
            "_view_module_version": "1.5.0",
            "_view_name": "HTMLView",
            "description": "",
            "description_tooltip": null,
            "layout": "IPY_MODEL_1f2d56d84cbc4f94aace0b5501985977",
            "placeholder": "​",
            "style": "IPY_MODEL_d4f9607c47b849728191401e01f04dc4",
            "value": " 8500/8500 [00:00&lt;00:00, 12581.94 examples/s]"
          }
        },
        "13928632ba174447a1ef2d0826c12318": {
          "model_module": "@jupyter-widgets/base",
          "model_name": "LayoutModel",
          "model_module_version": "1.2.0",
          "state": {
            "_model_module": "@jupyter-widgets/base",
            "_model_module_version": "1.2.0",
            "_model_name": "LayoutModel",
            "_view_count": null,
            "_view_module": "@jupyter-widgets/base",
            "_view_module_version": "1.2.0",
            "_view_name": "LayoutView",
            "align_content": null,
            "align_items": null,
            "align_self": null,
            "border": null,
            "bottom": null,
            "display": null,
            "flex": null,
            "flex_flow": null,
            "grid_area": null,
            "grid_auto_columns": null,
            "grid_auto_flow": null,
            "grid_auto_rows": null,
            "grid_column": null,
            "grid_gap": null,
            "grid_row": null,
            "grid_template_areas": null,
            "grid_template_columns": null,
            "grid_template_rows": null,
            "height": null,
            "justify_content": null,
            "justify_items": null,
            "left": null,
            "margin": null,
            "max_height": null,
            "max_width": null,
            "min_height": null,
            "min_width": null,
            "object_fit": null,
            "object_position": null,
            "order": null,
            "overflow": null,
            "overflow_x": null,
            "overflow_y": null,
            "padding": null,
            "right": null,
            "top": null,
            "visibility": null,
            "width": null
          }
        },
        "0ebc5ebfa08948eb9b38702844efc02a": {
          "model_module": "@jupyter-widgets/base",
          "model_name": "LayoutModel",
          "model_module_version": "1.2.0",
          "state": {
            "_model_module": "@jupyter-widgets/base",
            "_model_module_version": "1.2.0",
            "_model_name": "LayoutModel",
            "_view_count": null,
            "_view_module": "@jupyter-widgets/base",
            "_view_module_version": "1.2.0",
            "_view_name": "LayoutView",
            "align_content": null,
            "align_items": null,
            "align_self": null,
            "border": null,
            "bottom": null,
            "display": null,
            "flex": null,
            "flex_flow": null,
            "grid_area": null,
            "grid_auto_columns": null,
            "grid_auto_flow": null,
            "grid_auto_rows": null,
            "grid_column": null,
            "grid_gap": null,
            "grid_row": null,
            "grid_template_areas": null,
            "grid_template_columns": null,
            "grid_template_rows": null,
            "height": null,
            "justify_content": null,
            "justify_items": null,
            "left": null,
            "margin": null,
            "max_height": null,
            "max_width": null,
            "min_height": null,
            "min_width": null,
            "object_fit": null,
            "object_position": null,
            "order": null,
            "overflow": null,
            "overflow_x": null,
            "overflow_y": null,
            "padding": null,
            "right": null,
            "top": null,
            "visibility": null,
            "width": null
          }
        },
        "914ff06f2e834e47b6b0a25bdbedf58e": {
          "model_module": "@jupyter-widgets/controls",
          "model_name": "DescriptionStyleModel",
          "model_module_version": "1.5.0",
          "state": {
            "_model_module": "@jupyter-widgets/controls",
            "_model_module_version": "1.5.0",
            "_model_name": "DescriptionStyleModel",
            "_view_count": null,
            "_view_module": "@jupyter-widgets/base",
            "_view_module_version": "1.2.0",
            "_view_name": "StyleView",
            "description_width": ""
          }
        },
        "90c2dee805a14d518624f49cd046627f": {
          "model_module": "@jupyter-widgets/base",
          "model_name": "LayoutModel",
          "model_module_version": "1.2.0",
          "state": {
            "_model_module": "@jupyter-widgets/base",
            "_model_module_version": "1.2.0",
            "_model_name": "LayoutModel",
            "_view_count": null,
            "_view_module": "@jupyter-widgets/base",
            "_view_module_version": "1.2.0",
            "_view_name": "LayoutView",
            "align_content": null,
            "align_items": null,
            "align_self": null,
            "border": null,
            "bottom": null,
            "display": null,
            "flex": null,
            "flex_flow": null,
            "grid_area": null,
            "grid_auto_columns": null,
            "grid_auto_flow": null,
            "grid_auto_rows": null,
            "grid_column": null,
            "grid_gap": null,
            "grid_row": null,
            "grid_template_areas": null,
            "grid_template_columns": null,
            "grid_template_rows": null,
            "height": null,
            "justify_content": null,
            "justify_items": null,
            "left": null,
            "margin": null,
            "max_height": null,
            "max_width": null,
            "min_height": null,
            "min_width": null,
            "object_fit": null,
            "object_position": null,
            "order": null,
            "overflow": null,
            "overflow_x": null,
            "overflow_y": null,
            "padding": null,
            "right": null,
            "top": null,
            "visibility": null,
            "width": null
          }
        },
        "3395c349cdf34bebb20870b0221b5dbd": {
          "model_module": "@jupyter-widgets/controls",
          "model_name": "ProgressStyleModel",
          "model_module_version": "1.5.0",
          "state": {
            "_model_module": "@jupyter-widgets/controls",
            "_model_module_version": "1.5.0",
            "_model_name": "ProgressStyleModel",
            "_view_count": null,
            "_view_module": "@jupyter-widgets/base",
            "_view_module_version": "1.2.0",
            "_view_name": "StyleView",
            "bar_color": null,
            "description_width": ""
          }
        },
        "1f2d56d84cbc4f94aace0b5501985977": {
          "model_module": "@jupyter-widgets/base",
          "model_name": "LayoutModel",
          "model_module_version": "1.2.0",
          "state": {
            "_model_module": "@jupyter-widgets/base",
            "_model_module_version": "1.2.0",
            "_model_name": "LayoutModel",
            "_view_count": null,
            "_view_module": "@jupyter-widgets/base",
            "_view_module_version": "1.2.0",
            "_view_name": "LayoutView",
            "align_content": null,
            "align_items": null,
            "align_self": null,
            "border": null,
            "bottom": null,
            "display": null,
            "flex": null,
            "flex_flow": null,
            "grid_area": null,
            "grid_auto_columns": null,
            "grid_auto_flow": null,
            "grid_auto_rows": null,
            "grid_column": null,
            "grid_gap": null,
            "grid_row": null,
            "grid_template_areas": null,
            "grid_template_columns": null,
            "grid_template_rows": null,
            "height": null,
            "justify_content": null,
            "justify_items": null,
            "left": null,
            "margin": null,
            "max_height": null,
            "max_width": null,
            "min_height": null,
            "min_width": null,
            "object_fit": null,
            "object_position": null,
            "order": null,
            "overflow": null,
            "overflow_x": null,
            "overflow_y": null,
            "padding": null,
            "right": null,
            "top": null,
            "visibility": null,
            "width": null
          }
        },
        "d4f9607c47b849728191401e01f04dc4": {
          "model_module": "@jupyter-widgets/controls",
          "model_name": "DescriptionStyleModel",
          "model_module_version": "1.5.0",
          "state": {
            "_model_module": "@jupyter-widgets/controls",
            "_model_module_version": "1.5.0",
            "_model_name": "DescriptionStyleModel",
            "_view_count": null,
            "_view_module": "@jupyter-widgets/base",
            "_view_module_version": "1.2.0",
            "_view_name": "StyleView",
            "description_width": ""
          }
        },
        "1d53d82a01c44c2090d89dd03663f598": {
          "model_module": "@jupyter-widgets/controls",
          "model_name": "HBoxModel",
          "model_module_version": "1.5.0",
          "state": {
            "_dom_classes": [],
            "_model_module": "@jupyter-widgets/controls",
            "_model_module_version": "1.5.0",
            "_model_name": "HBoxModel",
            "_view_count": null,
            "_view_module": "@jupyter-widgets/controls",
            "_view_module_version": "1.5.0",
            "_view_name": "HBoxView",
            "box_style": "",
            "children": [
              "IPY_MODEL_d3f2c5ca411d4070abc2a3642f565fab",
              "IPY_MODEL_e59ce7dcac1c4dc99e8299331d2f60e8",
              "IPY_MODEL_00d3c8e167ee4a8d821fc861bce34fc2"
            ],
            "layout": "IPY_MODEL_1ab86d0c7354405a9025b2d711aabf23"
          }
        },
        "d3f2c5ca411d4070abc2a3642f565fab": {
          "model_module": "@jupyter-widgets/controls",
          "model_name": "HTMLModel",
          "model_module_version": "1.5.0",
          "state": {
            "_dom_classes": [],
            "_model_module": "@jupyter-widgets/controls",
            "_model_module_version": "1.5.0",
            "_model_name": "HTMLModel",
            "_view_count": null,
            "_view_module": "@jupyter-widgets/controls",
            "_view_module_version": "1.5.0",
            "_view_name": "HTMLView",
            "description": "",
            "description_tooltip": null,
            "layout": "IPY_MODEL_be4c8335d6fd44bf996808f641685000",
            "placeholder": "​",
            "style": "IPY_MODEL_fe3c9af2d16747998450670d80ce59f4",
            "value": "Map: 100%"
          }
        },
        "e59ce7dcac1c4dc99e8299331d2f60e8": {
          "model_module": "@jupyter-widgets/controls",
          "model_name": "FloatProgressModel",
          "model_module_version": "1.5.0",
          "state": {
            "_dom_classes": [],
            "_model_module": "@jupyter-widgets/controls",
            "_model_module_version": "1.5.0",
            "_model_name": "FloatProgressModel",
            "_view_count": null,
            "_view_module": "@jupyter-widgets/controls",
            "_view_module_version": "1.5.0",
            "_view_name": "ProgressView",
            "bar_style": "success",
            "description": "",
            "description_tooltip": null,
            "layout": "IPY_MODEL_4ce2405782f94548b33c0064e78ab0e0",
            "max": 1500,
            "min": 0,
            "orientation": "horizontal",
            "style": "IPY_MODEL_fb576d7387d34f5481420cd6e29b412a",
            "value": 1500
          }
        },
        "00d3c8e167ee4a8d821fc861bce34fc2": {
          "model_module": "@jupyter-widgets/controls",
          "model_name": "HTMLModel",
          "model_module_version": "1.5.0",
          "state": {
            "_dom_classes": [],
            "_model_module": "@jupyter-widgets/controls",
            "_model_module_version": "1.5.0",
            "_model_name": "HTMLModel",
            "_view_count": null,
            "_view_module": "@jupyter-widgets/controls",
            "_view_module_version": "1.5.0",
            "_view_name": "HTMLView",
            "description": "",
            "description_tooltip": null,
            "layout": "IPY_MODEL_dbe8522f091647108c2123fb87dce84e",
            "placeholder": "​",
            "style": "IPY_MODEL_9380b9f9a69f4ba5b99801387e6b6310",
            "value": " 1500/1500 [00:00&lt;00:00, 13003.90 examples/s]"
          }
        },
        "1ab86d0c7354405a9025b2d711aabf23": {
          "model_module": "@jupyter-widgets/base",
          "model_name": "LayoutModel",
          "model_module_version": "1.2.0",
          "state": {
            "_model_module": "@jupyter-widgets/base",
            "_model_module_version": "1.2.0",
            "_model_name": "LayoutModel",
            "_view_count": null,
            "_view_module": "@jupyter-widgets/base",
            "_view_module_version": "1.2.0",
            "_view_name": "LayoutView",
            "align_content": null,
            "align_items": null,
            "align_self": null,
            "border": null,
            "bottom": null,
            "display": null,
            "flex": null,
            "flex_flow": null,
            "grid_area": null,
            "grid_auto_columns": null,
            "grid_auto_flow": null,
            "grid_auto_rows": null,
            "grid_column": null,
            "grid_gap": null,
            "grid_row": null,
            "grid_template_areas": null,
            "grid_template_columns": null,
            "grid_template_rows": null,
            "height": null,
            "justify_content": null,
            "justify_items": null,
            "left": null,
            "margin": null,
            "max_height": null,
            "max_width": null,
            "min_height": null,
            "min_width": null,
            "object_fit": null,
            "object_position": null,
            "order": null,
            "overflow": null,
            "overflow_x": null,
            "overflow_y": null,
            "padding": null,
            "right": null,
            "top": null,
            "visibility": null,
            "width": null
          }
        },
        "be4c8335d6fd44bf996808f641685000": {
          "model_module": "@jupyter-widgets/base",
          "model_name": "LayoutModel",
          "model_module_version": "1.2.0",
          "state": {
            "_model_module": "@jupyter-widgets/base",
            "_model_module_version": "1.2.0",
            "_model_name": "LayoutModel",
            "_view_count": null,
            "_view_module": "@jupyter-widgets/base",
            "_view_module_version": "1.2.0",
            "_view_name": "LayoutView",
            "align_content": null,
            "align_items": null,
            "align_self": null,
            "border": null,
            "bottom": null,
            "display": null,
            "flex": null,
            "flex_flow": null,
            "grid_area": null,
            "grid_auto_columns": null,
            "grid_auto_flow": null,
            "grid_auto_rows": null,
            "grid_column": null,
            "grid_gap": null,
            "grid_row": null,
            "grid_template_areas": null,
            "grid_template_columns": null,
            "grid_template_rows": null,
            "height": null,
            "justify_content": null,
            "justify_items": null,
            "left": null,
            "margin": null,
            "max_height": null,
            "max_width": null,
            "min_height": null,
            "min_width": null,
            "object_fit": null,
            "object_position": null,
            "order": null,
            "overflow": null,
            "overflow_x": null,
            "overflow_y": null,
            "padding": null,
            "right": null,
            "top": null,
            "visibility": null,
            "width": null
          }
        },
        "fe3c9af2d16747998450670d80ce59f4": {
          "model_module": "@jupyter-widgets/controls",
          "model_name": "DescriptionStyleModel",
          "model_module_version": "1.5.0",
          "state": {
            "_model_module": "@jupyter-widgets/controls",
            "_model_module_version": "1.5.0",
            "_model_name": "DescriptionStyleModel",
            "_view_count": null,
            "_view_module": "@jupyter-widgets/base",
            "_view_module_version": "1.2.0",
            "_view_name": "StyleView",
            "description_width": ""
          }
        },
        "4ce2405782f94548b33c0064e78ab0e0": {
          "model_module": "@jupyter-widgets/base",
          "model_name": "LayoutModel",
          "model_module_version": "1.2.0",
          "state": {
            "_model_module": "@jupyter-widgets/base",
            "_model_module_version": "1.2.0",
            "_model_name": "LayoutModel",
            "_view_count": null,
            "_view_module": "@jupyter-widgets/base",
            "_view_module_version": "1.2.0",
            "_view_name": "LayoutView",
            "align_content": null,
            "align_items": null,
            "align_self": null,
            "border": null,
            "bottom": null,
            "display": null,
            "flex": null,
            "flex_flow": null,
            "grid_area": null,
            "grid_auto_columns": null,
            "grid_auto_flow": null,
            "grid_auto_rows": null,
            "grid_column": null,
            "grid_gap": null,
            "grid_row": null,
            "grid_template_areas": null,
            "grid_template_columns": null,
            "grid_template_rows": null,
            "height": null,
            "justify_content": null,
            "justify_items": null,
            "left": null,
            "margin": null,
            "max_height": null,
            "max_width": null,
            "min_height": null,
            "min_width": null,
            "object_fit": null,
            "object_position": null,
            "order": null,
            "overflow": null,
            "overflow_x": null,
            "overflow_y": null,
            "padding": null,
            "right": null,
            "top": null,
            "visibility": null,
            "width": null
          }
        },
        "fb576d7387d34f5481420cd6e29b412a": {
          "model_module": "@jupyter-widgets/controls",
          "model_name": "ProgressStyleModel",
          "model_module_version": "1.5.0",
          "state": {
            "_model_module": "@jupyter-widgets/controls",
            "_model_module_version": "1.5.0",
            "_model_name": "ProgressStyleModel",
            "_view_count": null,
            "_view_module": "@jupyter-widgets/base",
            "_view_module_version": "1.2.0",
            "_view_name": "StyleView",
            "bar_color": null,
            "description_width": ""
          }
        },
        "dbe8522f091647108c2123fb87dce84e": {
          "model_module": "@jupyter-widgets/base",
          "model_name": "LayoutModel",
          "model_module_version": "1.2.0",
          "state": {
            "_model_module": "@jupyter-widgets/base",
            "_model_module_version": "1.2.0",
            "_model_name": "LayoutModel",
            "_view_count": null,
            "_view_module": "@jupyter-widgets/base",
            "_view_module_version": "1.2.0",
            "_view_name": "LayoutView",
            "align_content": null,
            "align_items": null,
            "align_self": null,
            "border": null,
            "bottom": null,
            "display": null,
            "flex": null,
            "flex_flow": null,
            "grid_area": null,
            "grid_auto_columns": null,
            "grid_auto_flow": null,
            "grid_auto_rows": null,
            "grid_column": null,
            "grid_gap": null,
            "grid_row": null,
            "grid_template_areas": null,
            "grid_template_columns": null,
            "grid_template_rows": null,
            "height": null,
            "justify_content": null,
            "justify_items": null,
            "left": null,
            "margin": null,
            "max_height": null,
            "max_width": null,
            "min_height": null,
            "min_width": null,
            "object_fit": null,
            "object_position": null,
            "order": null,
            "overflow": null,
            "overflow_x": null,
            "overflow_y": null,
            "padding": null,
            "right": null,
            "top": null,
            "visibility": null,
            "width": null
          }
        },
        "9380b9f9a69f4ba5b99801387e6b6310": {
          "model_module": "@jupyter-widgets/controls",
          "model_name": "DescriptionStyleModel",
          "model_module_version": "1.5.0",
          "state": {
            "_model_module": "@jupyter-widgets/controls",
            "_model_module_version": "1.5.0",
            "_model_name": "DescriptionStyleModel",
            "_view_count": null,
            "_view_module": "@jupyter-widgets/base",
            "_view_module_version": "1.2.0",
            "_view_name": "StyleView",
            "description_width": ""
          }
        }
      }
    }
  },
  "cells": [
    {
      "cell_type": "code",
      "execution_count": null,
      "metadata": {
        "colab": {
          "base_uri": "https://localhost:8080/"
        },
        "id": "j6wWUlWpV7FU",
        "outputId": "5191df7f-487a-446b-861c-525fb202afe6"
      },
      "outputs": [
        {
          "output_type": "stream",
          "name": "stdout",
          "text": [
            "\u001b[?25l   \u001b[90m━━━━━━━━━━━━━━━━━━━━━━━━━━━━━━━━━━━━━━━━\u001b[0m \u001b[32m0.0/608.4 kB\u001b[0m \u001b[31m?\u001b[0m eta \u001b[36m-:--:--\u001b[0m\r\u001b[2K   \u001b[91m━━━━━━━━━━━━━━━━━━━━━━━━━━━━━━━━━━━━━━━\u001b[0m\u001b[91m╸\u001b[0m \u001b[32m604.2/608.4 kB\u001b[0m \u001b[31m18.7 MB/s\u001b[0m eta \u001b[36m0:00:01\u001b[0m\r\u001b[2K   \u001b[90m━━━━━━━━━━━━━━━━━━━━━━━━━━━━━━━━━━━━━━━━\u001b[0m \u001b[32m608.4/608.4 kB\u001b[0m \u001b[31m14.7 MB/s\u001b[0m eta \u001b[36m0:00:00\u001b[0m\n",
            "\u001b[?25hGPU disponibile\n"
          ]
        }
      ],
      "source": [
        "# CELLA 1: Setup e Import\n",
        "\n",
        "!pip install -q datasets emoji\n",
        "\n",
        "import os, zipfile, requests, io, re, random\n",
        "import pandas as pd, numpy as np\n",
        "import emoji, html\n",
        "from sklearn.model_selection import train_test_split\n",
        "from sklearn.metrics import accuracy_score, f1_score, classification_report, confusion_matrix, precision_score, recall_score\n",
        "import matplotlib.pyplot as plt\n",
        "import seaborn as sns\n",
        "from scipy.special import softmax\n",
        "from datasets import Dataset\n",
        "from transformers import AutoTokenizer, AutoModelForSequenceClassification, TrainingArguments, Trainer, pipeline\n",
        "import torch\n",
        "from pathlib import Path\n",
        "\n",
        "if torch.cuda.is_available():\n",
        "    print(\"GPU disponibile\")\n",
        "\n",
        "MODEL = \"cardiffnlp/twitter-roberta-base-sentiment-latest\"\n",
        "SAMPLE_SIZE = 10000\n",
        "MAX_LEN = 128\n",
        "BATCH = 16\n",
        "LOW_CONF_THRESHOLD = 0.60\n"
      ]
    },
    {
      "cell_type": "code",
      "source": [
        "#Download e Preprocessing Dataset\n",
        "\n",
        "zip_url = \"http://cs.stanford.edu/people/alecmgo/trainingandtestdata.zip\"\n",
        "data_dir = \"./sentiment140_data\"\n",
        "os.makedirs(data_dir, exist_ok=True)\n",
        "csv_path = os.path.join(data_dir, \"training.1600000.processed.noemoticon.csv\")\n",
        "\n",
        "if not os.path.exists(csv_path):\n",
        "    r = requests.get(zip_url, timeout=120)\n",
        "    z = zipfile.ZipFile(io.BytesIO(r.content))\n",
        "    z.extractall(data_dir)\n",
        "\n",
        "cols = [\"target\",\"id\",\"date\",\"query\",\"user\",\"text\"]\n",
        "df = pd.read_csv(csv_path, encoding=\"latin-1\", names=cols)\n",
        "df = df[[\"target\",\"text\"]]\n",
        "# Mappa 0->0 (Negativo), 4->1 (Positivo)\n",
        "df[\"target\"] = df[\"target\"].map({0:0, 4:1})\n",
        "df = df.dropna().reset_index(drop=True)\n",
        "\n",
        "def preprocess_social(text: str) -> str:\n",
        "    if not isinstance(text, str):\n",
        "        return \"\"\n",
        "    t = html.unescape(text)\n",
        "    t = re.sub(r\"@\\w+\", \"@user\", t)\n",
        "    t = re.sub(r\"http\\S+|www\\.\\S+\", \"http\", t)\n",
        "    t = re.sub(r\"#(\\w+)\", r\"\\1\", t)\n",
        "    t = emoji.demojize(t)\n",
        "    t = re.sub(r\"\\s+\", \" \", t).strip()\n",
        "    return t\n",
        "\n",
        "df[\"text_clean\"] = df[\"text\"].astype(str).apply(preprocess_social)\n",
        "df = df.groupby(\"target\").apply(lambda x: x.sample(min(len(x), SAMPLE_SIZE//2), random_state=42)).reset_index(drop=True)\n",
        "\n",
        "train_df, test_df = train_test_split(df, test_size=0.15, random_state=42, stratify=df[\"target\"])\n",
        "print(f\"Train: {len(train_df)}, Test: {len(test_df)}\")\n",
        "print(f\"Distribuzione: {df['target'].value_counts().sort_index().to_dict()}\")"
      ],
      "metadata": {
        "colab": {
          "base_uri": "https://localhost:8080/"
        },
        "id": "Z9tKJIM2V_YX",
        "outputId": "8f772e94-efbb-4557-ee6c-a4b3dd45350c"
      },
      "execution_count": null,
      "outputs": [
        {
          "output_type": "stream",
          "name": "stdout",
          "text": [
            "Train: 8500, Test: 1500\n",
            "Distribuzione: {0: 5000, 1: 5000}\n"
          ]
        },
        {
          "output_type": "stream",
          "name": "stderr",
          "text": [
            "/tmp/ipython-input-305863867.py:32: DeprecationWarning: DataFrameGroupBy.apply operated on the grouping columns. This behavior is deprecated, and in a future version of pandas the grouping columns will be excluded from the operation. Either pass `include_groups=False` to exclude the groupings or explicitly select the grouping columns after groupby to silence this warning.\n",
            "  df = df.groupby(\"target\").apply(lambda x: x.sample(min(len(x), SAMPLE_SIZE//2), random_state=42)).reset_index(drop=True)\n"
          ]
        }
      ]
    },
    {
      "cell_type": "code",
      "source": [
        "#Tokenizzazione\n",
        "\n",
        "tokenizer = AutoTokenizer.from_pretrained(MODEL, use_fast=True)\n",
        "\n",
        "def tokenize_batch(batch):\n",
        "    return tokenizer(batch[\"text\"], truncation=True, padding=\"max_length\", max_length=MAX_LEN)\n",
        "\n",
        "train_ds = Dataset.from_pandas(train_df[[\"text_clean\",\"target\"]].rename(columns={\"text_clean\":\"text\", \"target\":\"labels\"}))\n",
        "test_ds = Dataset.from_pandas(test_df[[\"text_clean\",\"target\"]].rename(columns={\"text_clean\":\"text\", \"target\":\"labels\"}))\n",
        "\n",
        "train_ds = train_ds.map(tokenize_batch, batched=True)\n",
        "test_ds = test_ds.map(tokenize_batch, batched=True)\n",
        "\n",
        "train_ds.set_format(type=\"torch\", columns=[\"input_ids\",\"attention_mask\",\"labels\"])\n",
        "test_ds.set_format(type=\"torch\", columns=[\"input_ids\",\"attention_mask\",\"labels\"])"
      ],
      "metadata": {
        "colab": {
          "base_uri": "https://localhost:8080/",
          "height": 81,
          "referenced_widgets": [
            "aa38ba0c9d514c9c89a32f7654d2c99f",
            "3d1168c6fe5544bbb5f9f19f506a4d85",
            "2eb50adff6e644d98607ce590aae42bf",
            "511f0a842b08434181490c1ecad18b5c",
            "13928632ba174447a1ef2d0826c12318",
            "0ebc5ebfa08948eb9b38702844efc02a",
            "914ff06f2e834e47b6b0a25bdbedf58e",
            "90c2dee805a14d518624f49cd046627f",
            "3395c349cdf34bebb20870b0221b5dbd",
            "1f2d56d84cbc4f94aace0b5501985977",
            "d4f9607c47b849728191401e01f04dc4",
            "1d53d82a01c44c2090d89dd03663f598",
            "d3f2c5ca411d4070abc2a3642f565fab",
            "e59ce7dcac1c4dc99e8299331d2f60e8",
            "00d3c8e167ee4a8d821fc861bce34fc2",
            "1ab86d0c7354405a9025b2d711aabf23",
            "be4c8335d6fd44bf996808f641685000",
            "fe3c9af2d16747998450670d80ce59f4",
            "4ce2405782f94548b33c0064e78ab0e0",
            "fb576d7387d34f5481420cd6e29b412a",
            "dbe8522f091647108c2123fb87dce84e",
            "9380b9f9a69f4ba5b99801387e6b6310"
          ]
        },
        "id": "H8E1HB8WV_bP",
        "outputId": "3dbfb9f6-2253-49c0-ee74-26ba02fc31cf"
      },
      "execution_count": null,
      "outputs": [
        {
          "output_type": "display_data",
          "data": {
            "text/plain": [
              "Map:   0%|          | 0/8500 [00:00<?, ? examples/s]"
            ],
            "application/vnd.jupyter.widget-view+json": {
              "version_major": 2,
              "version_minor": 0,
              "model_id": "aa38ba0c9d514c9c89a32f7654d2c99f"
            }
          },
          "metadata": {}
        },
        {
          "output_type": "display_data",
          "data": {
            "text/plain": [
              "Map:   0%|          | 0/1500 [00:00<?, ? examples/s]"
            ],
            "application/vnd.jupyter.widget-view+json": {
              "version_major": 2,
              "version_minor": 0,
              "model_id": "1d53d82a01c44c2090d89dd03663f598"
            }
          },
          "metadata": {}
        }
      ]
    },
    {
      "cell_type": "code",
      "source": [
        "#Training\n",
        "\n",
        "# Questo dice di scartare la vecchia testa di classificazione (3 etichette)\n",
        "# e inizializzarne una nuova (2 etichette) per il task.\n",
        "model = AutoModelForSequenceClassification.from_pretrained(\n",
        "    MODEL,\n",
        "    num_labels=2,\n",
        "    ignore_mismatched_sizes=True #IGNORA I NEUTRALI\n",
        ")\n",
        "\n",
        "os.environ[\"WANDB_DISABLED\"] = \"true\"\n",
        "\n",
        "args = TrainingArguments(\n",
        "    output_dir=\"./hf_retrained_model\",\n",
        "    per_device_train_batch_size=BATCH,\n",
        "    per_device_eval_batch_size=BATCH,\n",
        "    num_train_epochs=1,\n",
        "    save_strategy=\"epoch\",\n",
        "    eval_strategy=\"steps\",\n",
        "    eval_steps=200,\n",
        "    learning_rate=2e-5,\n",
        "    logging_steps=50,\n",
        "    disable_tqdm=False,\n",
        ")\n",
        "\n",
        "def compute_metrics(eval_pred):\n",
        "    logits, labels = eval_pred\n",
        "    preds = np.argmax(logits, axis=-1)\n",
        "    acc = accuracy_score(labels, preds)\n",
        "    f1 = f1_score(labels, preds, average=\"weighted\", zero_division=0)\n",
        "    return {\"accuracy\": acc, \"f1\": f1}\n",
        "\n",
        "trainer = Trainer(model=model, args=args, train_dataset=train_ds, eval_dataset=test_ds, compute_metrics=compute_metrics)\n",
        "\n",
        "trainer.train()\n",
        "trainer.save_model(\"./hf_retrained_model\")\n",
        "\n",
        "# Plot Training Loss\n",
        "train_losses = [log['loss'] for log in trainer.state.log_history if 'loss' in log]\n",
        "steps_train = [log['step'] for log in trainer.state.log_history if 'loss' in log]\n",
        "\n",
        "plt.figure(figsize=(10, 5))\n",
        "plt.plot(steps_train, train_losses, 'b-', linewidth=2, marker='o', markersize=4)\n",
        "plt.xlabel('Step', fontsize=12)\n",
        "plt.ylabel('Loss', fontsize=12)\n",
        "plt.title('Training Loss', fontsize=14, fontweight='bold')\n",
        "plt.grid(True, alpha=0.3)\n",
        "plt.tight_layout()\n",
        "plt.show()\n",
        "\n",
        "print(\"\\n=== TRAINING SUMMARY ===\")\n",
        "print(f\"Initial Loss: {train_losses[0]:.4f}\")\n",
        "print(f\"Final Loss: {train_losses[-1]:.4f}\")\n",
        "print(f\"Loss Reduction: {100*(train_losses[0]-train_losses[-1])/train_losses[0]:.1f}%\")"
      ],
      "metadata": {
        "colab": {
          "base_uri": "https://localhost:8080/",
          "height": 751
        },
        "id": "atn2VusnkfBO",
        "outputId": "364d56b7-6eac-4681-9324-0dee489c6e9c"
      },
      "execution_count": null,
      "outputs": [
        {
          "metadata": {
            "tags": null
          },
          "name": "stderr",
          "output_type": "stream",
          "text": [
            "Some weights of the model checkpoint at cardiffnlp/twitter-roberta-base-sentiment-latest were not used when initializing RobertaForSequenceClassification: ['roberta.pooler.dense.bias', 'roberta.pooler.dense.weight']\n",
            "- This IS expected if you are initializing RobertaForSequenceClassification from the checkpoint of a model trained on another task or with another architecture (e.g. initializing a BertForSequenceClassification model from a BertForPreTraining model).\n",
            "- This IS NOT expected if you are initializing RobertaForSequenceClassification from the checkpoint of a model that you expect to be exactly identical (initializing a BertForSequenceClassification model from a BertForSequenceClassification model).\n",
            "Some weights of RobertaForSequenceClassification were not initialized from the model checkpoint at cardiffnlp/twitter-roberta-base-sentiment-latest and are newly initialized because the shapes did not match:\n",
            "- classifier.out_proj.weight: found shape torch.Size([3, 768]) in the checkpoint and torch.Size([2, 768]) in the model instantiated\n",
            "- classifier.out_proj.bias: found shape torch.Size([3]) in the checkpoint and torch.Size([2]) in the model instantiated\n",
            "You should probably TRAIN this model on a down-stream task to be able to use it for predictions and inference.\n",
            "Using the `WANDB_DISABLED` environment variable is deprecated and will be removed in v5. Use the --report_to flag to control the integrations used for logging result (for instance --report_to none).\n"
          ]
        },
        {
          "data": {
            "text/html": [
              "\n",
              "    <div>\n",
              "      \n",
              "      <progress value='55' max='532' style='width:300px; height:20px; vertical-align: middle;'></progress>\n",
              "      [ 55/532 00:07 < 01:11, 6.66 it/s, Epoch 0.10/1]\n",
              "    </div>\n",
              "    <table border=\"1\" class=\"dataframe\">\n",
              "  <thead>\n",
              " <tr style=\"text-align: left;\">\n",
              "      <th>Step</th>\n",
              "      <th>Training Loss</th>\n",
              "      <th>Validation Loss</th>\n",
              "    </tr>\n",
              "  </thead>\n",
              "  <tbody>\n",
              "  </tbody>\n",
              "</table><p>"
            ],
            "text/plain": [
              "<IPython.core.display.HTML object>"
            ]
          },
          "metadata": {},
          "output_type": "display_data"
        },
        {
          "output_type": "display_data",
          "data": {
            "text/plain": [
              "<IPython.core.display.HTML object>"
            ],
            "text/html": [
              "\n",
              "    <div>\n",
              "      \n",
              "      <progress value='532' max='532' style='width:300px; height:20px; vertical-align: middle;'></progress>\n",
              "      [532/532 01:33, Epoch 1/1]\n",
              "    </div>\n",
              "    <table border=\"1\" class=\"dataframe\">\n",
              "  <thead>\n",
              " <tr style=\"text-align: left;\">\n",
              "      <th>Step</th>\n",
              "      <th>Training Loss</th>\n",
              "      <th>Validation Loss</th>\n",
              "      <th>Accuracy</th>\n",
              "      <th>F1</th>\n",
              "    </tr>\n",
              "  </thead>\n",
              "  <tbody>\n",
              "    <tr>\n",
              "      <td>200</td>\n",
              "      <td>0.418900</td>\n",
              "      <td>0.375360</td>\n",
              "      <td>0.831333</td>\n",
              "      <td>0.831306</td>\n",
              "    </tr>\n",
              "    <tr>\n",
              "      <td>400</td>\n",
              "      <td>0.395200</td>\n",
              "      <td>0.361241</td>\n",
              "      <td>0.836000</td>\n",
              "      <td>0.835995</td>\n",
              "    </tr>\n",
              "  </tbody>\n",
              "</table><p>"
            ]
          },
          "metadata": {}
        },
        {
          "output_type": "display_data",
          "data": {
            "text/plain": [
              "<Figure size 1000x500 with 1 Axes>"
            ],
            "image/png": "[encoded data removed]"
          },
          "metadata": {}
        },
        {
          "output_type": "stream",
          "name": "stdout",
          "text": [
            "\n",
            "=== TRAINING SUMMARY ===\n",
            "Initial Loss: 0.5035\n",
            "Final Loss: 0.3392\n",
            "Loss Reduction: 32.6%\n"
          ]
        }
      ]
    },
    {
      "cell_type": "code",
      "source": [
        "#Evaluation Base\n",
        "\n",
        "pred_output = trainer.predict(test_ds)\n",
        "logits = pred_output.predictions\n",
        "probs = softmax(logits, axis=1)\n",
        "preds = np.argmax(probs, axis=1)\n",
        "labels = pred_output.label_ids\n",
        "\n",
        "acc = accuracy_score(labels, preds)\n",
        "f1 = f1_score(labels, preds, average=\"weighted\", zero_division=0)\n",
        "\n",
        "print(f\"Accuracy: {acc:.4f}\")\n",
        "print(f\"F1: {f1:.4f}\")\n",
        "print(\"\\n\", classification_report(labels, preds, target_names=['Negativo', 'Positivo'], zero_division=0))\n",
        "\n",
        "# Confusion Matrix\n",
        "cm = confusion_matrix(labels, preds)\n",
        "plt.figure(figsize=(6,5))\n",
        "sns.heatmap(cm, annot=True, fmt='d', cmap='Blues', xticklabels=['Negativo', 'Positivo'], yticklabels=['Negativo', 'Positivo'])\n",
        "plt.title(\"Confusion Matrix\", fontsize=14, fontweight='bold')\n",
        "plt.xlabel(\"Predetto\", fontsize=12)\n",
        "plt.ylabel(\"Vero\", fontsize=12)\n",
        "plt.tight_layout()\n",
        "plt.show()\n",
        "\n",
        "# Low confidence\n",
        "low_conf = []\n",
        "for i in range(min(20, len(probs))):\n",
        "    top_score = float(np.max(probs[i]))\n",
        "    if top_score < LOW_CONF_THRESHOLD:\n",
        "        low_conf.append((i, int(labels[i]), int(np.argmax(probs[i])), top_score))\n",
        "\n",
        "if low_conf:\n",
        "    print(f\"\\nLow confidence (<{LOW_CONF_THRESHOLD}): {len(low_conf)}\")"
      ],
      "metadata": {
        "colab": {
          "base_uri": "https://localhost:8080/",
          "height": 750
        },
        "id": "LawT_0F3fE1p",
        "outputId": "31efa5a1-0117-4f08-8cc6-0e81311bb738"
      },
      "execution_count": null,
      "outputs": [
        {
          "output_type": "display_data",
          "data": {
            "text/plain": [
              "<IPython.core.display.HTML object>"
            ],
            "text/html": []
          },
          "metadata": {}
        },
        {
          "output_type": "stream",
          "name": "stdout",
          "text": [
            "Accuracy: 0.8413\n",
            "F1: 0.8413\n",
            "\n",
            "               precision    recall  f1-score   support\n",
            "\n",
            "    Negativo       0.84      0.85      0.84       750\n",
            "    Positivo       0.85      0.84      0.84       750\n",
            "\n",
            "    accuracy                           0.84      1500\n",
            "   macro avg       0.84      0.84      0.84      1500\n",
            "weighted avg       0.84      0.84      0.84      1500\n",
            "\n"
          ]
        },
        {
          "output_type": "display_data",
          "data": {
            "text/plain": [
              "<Figure size 600x500 with 2 Axes>"
            ],
            "image/png": "[encoded data removed]"
          },
          "metadata": {}
        },
        {
          "output_type": "stream",
          "name": "stdout",
          "text": [
            "\n",
            "Low confidence (<0.6): 2\n"
          ]
        }
      ]
    },
    {
      "cell_type": "markdown",
      "source": [
        "Il modello ha sbagliato quasi allo stesso modo per entrambe: ha confuso 123 Negativi per Positivi e 117 Positivi per Negativi.\n",
        "\n",
        "Questo bilanciamento è OTTIMO Significa che il modello non è sbilanciato: non ha una preferenza nel classificare tutto come \"Positivo\" o \"Negativo\""
      ],
      "metadata": {
        "id": "xuB1Uuf_l-Qt"
      }
    },
    {
      "cell_type": "code",
      "source": [
        "# Pipeline Inferenza\n",
        "\n",
        "# Diciamo al modello che l'etichetta 0 è \"negative\" e l'etichetta 1 è \"positive\"\n",
        "#sovrascrive la vecchia configurazione {0: 'negative', 1: 'neutral', 2: 'positive'}\n",
        "print(\"Aggiornamento configurazione modello per 2 etichette...\")\n",
        "model.config.id2label = { 0: 'negative', 1: 'positive' }\n",
        "model.config.label2id = { 'negative': 0, 'positive': 1 }\n",
        "print(\"Configurazione aggiornata.\")\n",
        "\n",
        "#Crea la pipeline\n",
        "sentiment_pipeline = pipeline(\n",
        "    \"sentiment-analysis\",\n",
        "    model=model,\n",
        "    tokenizer=tokenizer,\n",
        "    device=0 if torch.cuda.is_available() else -1\n",
        ")\n",
        "\n",
        "# Aggiorna la label_map\n",
        "# Ora la pipeline restituirà solo \"negative\" o \"positive\".\n",
        "# La classe \"neutral\" non esiste più per questo modello.\n",
        "label_map = {\n",
        "    \"negative\": \"Negativo\",\n",
        "    \"positive\": \"Positivo\"\n",
        "    # \"neutral\" non è più necessario\n",
        "}\n",
        "\n",
        "print(\"Pipeline di inferenza pronta e configurata correttamente.\")"
      ],
      "metadata": {
        "colab": {
          "base_uri": "https://localhost:8080/"
        },
        "id": "0gIMJOIWcfSS",
        "outputId": "25177939-fdfb-4df7-9448-0d02e636b73a"
      },
      "execution_count": null,
      "outputs": [
        {
          "output_type": "stream",
          "name": "stderr",
          "text": [
            "Device set to use cuda:0\n"
          ]
        },
        {
          "output_type": "stream",
          "name": "stdout",
          "text": [
            "Aggiornamento configurazione modello per 2 etichette...\n",
            "Configurazione aggiornata.\n",
            "Pipeline di inferenza pronta e configurata correttamente.\n"
          ]
        }
      ]
    },
    {
      "cell_type": "code",
      "source": [
        "# Test su 4 Tweet Random\n",
        "predictions_list = []\n",
        "random_samples = test_df.sample(4)\n",
        "\n",
        "for index, row in random_samples.iterrows():\n",
        "    text_to_analyze = row['text_clean']\n",
        "    result = sentiment_pipeline(text_to_analyze)[0]\n",
        "    predicted_label = label_map.get(result['label'], 'Sconosciuto')\n",
        "    predicted_score = result['score']\n",
        "    print(f\"\\nTweet {index}:\")\n",
        "    print(f\"Testo: {text_to_analyze}\")\n",
        "    print(f\"Sentiment: {predicted_label} (Confidenza: {predicted_score:.3f})\")\n",
        "    predictions_list.append(predicted_label)"
      ],
      "metadata": {
        "colab": {
          "base_uri": "https://localhost:8080/"
        },
        "id": "eLxK8ywQV_lP",
        "outputId": "fea2ad86-ccde-4301-e7be-324b41238805"
      },
      "execution_count": null,
      "outputs": [
        {
          "output_type": "stream",
          "name": "stdout",
          "text": [
            "\n",
            "Tweet 7105:\n",
            "Testo: @user it will be better after father's day when we meet up in florida haha. hows everything will you?\n",
            "Sentiment: Positivo (Confidenza: 0.958)\n",
            "\n",
            "Tweet 2777:\n",
            "Testo: Hahaha yeah except i have no money\n",
            "Sentiment: Negativo (Confidenza: 0.965)\n",
            "\n",
            "Tweet 1625:\n",
            "Testo: why aren't all my friends' updates appearing on my page?\n",
            "Sentiment: Negativo (Confidenza: 0.953)\n",
            "\n",
            "Tweet 4869:\n",
            "Testo: Damn! Playin all this bball. So much for my french pedicure.\n",
            "Sentiment: Negativo (Confidenza: 0.978)\n"
          ]
        }
      ]
    },
    {
      "cell_type": "code",
      "source": [
        "# Grafico 4 Tweet\n",
        "\n",
        "results_series = pd.Series(predictions_list)\n",
        "sentiment_counts = results_series.value_counts()\n",
        "color_map = {'Negativo': '#FF6347', 'Neutrale': '#B0C4DE', 'Positivo': '#90EE90'}\n",
        "ordered_counts = sentiment_counts.reindex(['Negativo', 'Neutrale', 'Positivo'], fill_value=0)\n",
        "\n",
        "plt.figure(figsize=(6, 4))\n",
        "ordered_counts.plot(kind='bar', color=[color_map.get(label, 'blue') for label in ordered_counts.index])\n",
        "plt.title('Sentiment 4 Tweet Casuali')\n",
        "plt.xlabel('Sentiment')\n",
        "plt.ylabel('Count')\n",
        "plt.xticks(rotation=0)\n",
        "plt.grid(axis='y', linestyle='--', alpha=0.7)\n",
        "plt.yticks(range(int(ordered_counts.max()) + 2))\n",
        "plt.show()"
      ],
      "metadata": {
        "colab": {
          "base_uri": "https://localhost:8080/",
          "height": 410
        },
        "id": "wJedk0UKV_nw",
        "outputId": "965bd267-c456-4780-a3a9-e26f5896ba37"
      },
      "execution_count": null,
      "outputs": [
        {
          "output_type": "display_data",
          "data": {
            "text/plain": [
              "<Figure size 600x400 with 1 Axes>"
            ],
            "image/png": "[encoded data removed]"
          },
          "metadata": {}
        }
      ]
    },
    {
      "cell_type": "code",
      "source": [
        "#Grafico su TUTTO il Test Set\n",
        "\n",
        "print(f\"\\n=== GRAFICO RIASSUNTIVO SU TUTTO IL TEST SET ({len(preds)} TWEET) ===\")\n",
        "\n",
        "# --- ECCO LA CORREZIONE ---\n",
        "# La mappa deve riflettere il NOSTRO modello (0=Neg, 1=Pos)\n",
        "numeric_label_map = {\n",
        "    0: \"Negativo\",\n",
        "    1: \"Positivo\"\n",
        "    # 1 NON è Neutrale\n",
        "}\n",
        "\n",
        "# Converti l'array numpy 'preds' in una Serie di pandas\n",
        "preds_series = pd.Series(preds)\n",
        "mapped_preds = preds_series.map(numeric_label_map)\n",
        "sentiment_counts = mapped_preds.value_counts()\n",
        "\n",
        "# Prepara per il plot\n",
        "color_map = {'Negativo': '#FF6347', 'Neutrale': '#B0C4DE', 'Positivo': '#90EE90'}\n",
        "# Assicurati che l'ordine sia corretto per le nostre etichette\n",
        "ordered_counts = sentiment_counts.reindex(['Negativo', 'Neutrale', 'Positivo'], fill_value=0)\n",
        "\n",
        "plt.figure(figsize=(7, 5))\n",
        "bars = ordered_counts.plot(\n",
        "    kind='bar',\n",
        "    color=[color_map.get(label, 'blue') for label in ordered_counts.index]\n",
        ")\n",
        "\n",
        "plt.title(f'Distribuzione Sentiment sull\\'Intero Test Set ({len(preds)} Tweet)')\n",
        "plt.xlabel('Sentiment Predetto')\n",
        "plt.ylabel('Numero di Tweet')\n",
        "plt.xticks(rotation=0)\n",
        "plt.grid(axis='y', linestyle='--', alpha=0.7)\n",
        "\n",
        "for bar in bars.patches:\n",
        "    plt.annotate(format(bar.get_height(), '.0f'),\n",
        "                 (bar.get_x() + bar.get_width() / 2,\n",
        "                  bar.get_height()), ha='center', va='center',\n",
        "                 size=10, xytext=(0, 8),\n",
        "                 textcoords='offset points')\n",
        "\n",
        "plt.ylim(top=ordered_counts.max() * 1.15)\n",
        "plt.show()"
      ],
      "metadata": {
        "colab": {
          "base_uri": "https://localhost:8080/",
          "height": 522
        },
        "id": "-zUhpgd3WOVZ",
        "outputId": "6a151aa4-c5df-4034-c72b-1eeb94640c39"
      },
      "execution_count": null,
      "outputs": [
        {
          "output_type": "stream",
          "name": "stdout",
          "text": [
            "\n",
            "=== GRAFICO RIASSUNTIVO SU TUTTO IL TEST SET (1500 TWEET) ===\n"
          ]
        },
        {
          "output_type": "display_data",
          "data": {
            "text/plain": [
              "<Figure size 700x500 with 1 Axes>"
            ],
            "image/png": "[encoded data removed]"
          },
          "metadata": {}
        }
      ]
    },
    {
      "cell_type": "code",
      "source": [
        "#Grafici delle Curve di Validazione\n",
        "\n",
        "print(\"\\n=== GRAFICI ANDAMENTO VALIDAZIONE ===\")\n",
        "\n",
        "#Estrai tutti i log dalla cronologia del trainer\n",
        "log_history = trainer.state.log_history\n",
        "\n",
        "#Separa i log di training da quelli di valutazione (eval)\n",
        "# Cerca solo i dizionari che contengono 'eval_loss'\n",
        "eval_logs = [log for log in log_history if 'eval_loss' in log]\n",
        "\n",
        "if not eval_logs:\n",
        "    print(\"Nessun log di valutazione trovato.\")\n",
        "    print(\"Assicurati che 'evaluation_strategy' e 'eval_steps' siano impostati in TrainingArguments.\")\n",
        "else:\n",
        "    #Estrae i valori per gli assi X e Y\n",
        "    steps = [log['step'] for log in eval_logs]\n",
        "    eval_losses = [log['eval_loss'] for log in eval_logs]\n",
        "    eval_accuracies = [log['eval_accuracy'] for log in eval_logs]\n",
        "\n",
        "    #Crea i grafici (due grafici in una sola figura)\n",
        "    fig, (ax1, ax2) = plt.subplots(1, 2, figsize=(14, 5))\n",
        "\n",
        "    # Grafico 1: Validation Loss\n",
        "    ax1.plot(steps, eval_losses, marker='o', linestyle='--', color='red')\n",
        "    ax1.set_title('Validation Loss vs. Steps', fontsize=14, fontweight='bold')\n",
        "    ax1.set_xlabel('Steps')\n",
        "    ax1.set_ylabel('Loss')\n",
        "    ax1.grid(True, alpha=0.3)\n",
        "\n",
        "    # Grafico 2: Validation Accuracy\n",
        "    ax2.plot(steps, eval_accuracies, marker='o', linestyle='--', color='green')\n",
        "    ax2.set_title('Validation Accuracy vs. Steps', fontsize=14, fontweight='bold')\n",
        "    ax2.set_xlabel('Steps')\n",
        "    ax2.set_ylabel('Accuracy')\n",
        "    ax2.grid(True, alpha=0.3)\n",
        "\n",
        "    plt.tight_layout()\n",
        "    plt.show()"
      ],
      "metadata": {
        "id": "yR0E6rQIWP4B",
        "colab": {
          "base_uri": "https://localhost:8080/",
          "height": 271
        },
        "outputId": "2d36d9c8-264c-4f7c-d4c4-b07537b33384"
      },
      "execution_count": null,
      "outputs": [
        {
          "output_type": "stream",
          "name": "stdout",
          "text": [
            "\n",
            "=== GRAFICI ANDAMENTO VALIDAZIONE ===\n"
          ]
        },
        {
          "output_type": "display_data",
          "data": {
            "text/plain": [
              "<Figure size 1400x500 with 2 Axes>"
            ],
            "image/png": "[encoded data removed]"
          },
          "metadata": {}
        }
      ]
    },
    {
      "cell_type": "code",
      "source": [],
      "metadata": {
        "id": "71dfDWqnojr1"
      },
      "execution_count": null,
      "outputs": []
    }
  ]
}