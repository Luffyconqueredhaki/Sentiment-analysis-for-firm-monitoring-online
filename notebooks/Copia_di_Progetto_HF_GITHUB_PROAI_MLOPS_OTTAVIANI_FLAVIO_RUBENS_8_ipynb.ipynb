{
  "cells": [
    {
      "cell_type": "code",
      "execution_count": null,
      "metadata": {
        "colab": {
          "base_uri": "https://localhost:8080/"
        },
        "id": "jlHiwrNMPTl0",
        "outputId": "fc18b9ca-5daf-4385-b29c-a9cdcc404f60"
      },
      "outputs": [
        {
          "output_type": "stream",
          "name": "stdout",
          "text": [
            "\u001b[?25l   \u001b[90m━━━━━━━━━━━━━━━━━━━━━━━━━━━━━━━━━━━━━━━━\u001b[0m \u001b[32m0.0/608.4 kB\u001b[0m \u001b[31m?\u001b[0m eta \u001b[36m-:--:--\u001b[0m\r\u001b[2K   \u001b[91m━━━━━━━━━━━━━━━━━━━━━━━━━━━━━━━━━━━━━━━\u001b[0m\u001b[91m╸\u001b[0m \u001b[32m604.2/608.4 kB\u001b[0m \u001b[31m19.4 MB/s\u001b[0m eta \u001b[36m0:00:01\u001b[0m\r\u001b[2K   \u001b[90m━━━━━━━━━━━━━━━━━━━━━━━━━━━━━━━━━━━━━━━━\u001b[0m \u001b[32m608.4/608.4 kB\u001b[0m \u001b[31m14.3 MB/s\u001b[0m eta \u001b[36m0:00:00\u001b[0m\n",
            "\u001b[?25hGPU disponibile\n"
          ]
        }
      ],
      "source": [
        "# -*- coding: utf-8 -*-\n",
        "\n",
        "# Setup e Import\n",
        "!pip install -q datasets emoji\n",
        "\n",
        "import os, zipfile, requests, io, re, random\n",
        "import pandas as pd, numpy as np\n",
        "import emoji, html\n",
        "from sklearn.model_selection import train_test_split\n",
        "from sklearn.metrics import accuracy_score, f1_score, classification_report, confusion_matrix, precision_score, recall_score\n",
        "import matplotlib.pyplot as plt\n",
        "import seaborn as sns\n",
        "from scipy.special import softmax\n",
        "from datasets import Dataset\n",
        "from transformers import AutoTokenizer, AutoModelForSequenceClassification, TrainingArguments, Trainer, pipeline\n",
        "import torch\n",
        "from pathlib import Path\n",
        "\n",
        "if torch.cuda.is_available():\n",
        "    print(\"GPU disponibile\")"
      ]
    },
    {
      "cell_type": "code",
      "execution_count": null,
      "metadata": {
        "id": "svr1e784PToU"
      },
      "outputs": [],
      "source": [
        "# Configurazione Globale\n",
        "MODEL = \"cardiffnlp/twitter-roberta-base-sentiment-latest\"\n",
        "SAMPLE_SIZE = 10000\n",
        "MAX_LEN = 128\n",
        "BATCH = 16\n",
        "LOW_CONF_THRESHOLD = 0.60"
      ]
    },
    {
      "cell_type": "code",
      "execution_count": null,
      "metadata": {
        "id": "7fSvLQOiPTqs"
      },
      "outputs": [],
      "source": [
        "# Definizioni Funzioni di Supporto\n",
        "\n",
        "def preprocess_social(text: str) -> str:\n",
        "    if not isinstance(text, str):\n",
        "        return \"\"\n",
        "    t = html.unescape(text)\n",
        "    t = re.sub(r\"@\\w+\", \"@user\", t)\n",
        "    t = re.sub(r\"http\\S+|www\\.\\S+\", \"http\", t)\n",
        "    t = re.sub(r\"#(\\w+)\", r\"\\1\", t)\n",
        "    t = emoji.demojize(t)\n",
        "    t = re.sub(r\"\\s+\", \" \", t).strip()\n",
        "    return t\n",
        "\n",
        "def compute_metrics(eval_pred):\n",
        "    logits, labels = eval_pred\n",
        "    preds = np.argmax(logits, axis=-1)\n",
        "    acc = accuracy_score(labels, preds)\n",
        "    f1 = f1_score(labels, preds, average=\"weighted\", zero_division=0)\n",
        "    return {\"accuracy\": acc, \"f1\": f1}"
      ]
    },
    {
      "cell_type": "code",
      "execution_count": null,
      "metadata": {
        "id": "GKIiIa5NPTtU"
      },
      "outputs": [],
      "source": [
        "#Caricamento e Preprocessing Dati\n",
        "\n",
        "def load_and_preprocess_data():\n",
        "    #Download\n",
        "    zip_url = \"http://cs.stanford.edu/people/alecmgo/trainingandtestdata.zip\"\n",
        "    data_dir = \"./sentiment140_data\"\n",
        "    os.makedirs(data_dir, exist_ok=True)\n",
        "    csv_path = os.path.join(data_dir, \"training.1600000.processed.noemoticon.csv\")\n",
        "\n",
        "    if not os.path.exists(csv_path):\n",
        "        r = requests.get(zip_url, timeout=120)\n",
        "        z = zipfile.ZipFile(io.BytesIO(r.content))\n",
        "        z.extractall(data_dir)\n",
        "\n",
        "    cols = [\"target\",\"id\",\"date\",\"query\",\"user\",\"text\"]\n",
        "    df = pd.read_csv(csv_path, encoding=\"latin-1\", names=cols)\n",
        "    df = df[[\"target\",\"text\"]]\n",
        "    # Mappa 0->0 (Negativo), 4->1 (Positivo)\n",
        "    df[\"target\"] = df[\"target\"].map({0:0, 4:1})\n",
        "    df = df.dropna().reset_index(drop=True)\n",
        "\n",
        "    df[\"text_clean\"] = df[\"text\"].astype(str).apply(preprocess_social)\n",
        "    df = df.groupby(\"target\").apply(lambda x: x.sample(min(len(x), SAMPLE_SIZE//2), random_state=42)).reset_index(drop=True)\n",
        "\n",
        "    train_df, test_df = train_test_split(df, test_size=0.15, random_state=42, stratify=df[\"target\"])\n",
        "    print(f\"Train: {len(train_df)}, Test: {len(test_df)}\")\n",
        "    print(f\"Distribuzione: {df['target'].value_counts().sort_index().to_dict()}\")\n",
        "\n",
        "    #Tokenizzazione\n",
        "    tokenizer = AutoTokenizer.from_pretrained(MODEL, use_fast=True)\n",
        "\n",
        "    def tokenize_batch(batch):\n",
        "        return tokenizer(batch[\"text\"], truncation=True, padding=\"max_length\", max_length=MAX_LEN)\n",
        "\n",
        "    train_ds = Dataset.from_pandas(train_df[[\"text_clean\",\"target\"]].rename(columns={\"text_clean\":\"text\", \"target\":\"labels\"}))\n",
        "    test_ds = Dataset.from_pandas(test_df[[\"text_clean\",\"target\"]].rename(columns={\"text_clean\":\"text\", \"target\":\"labels\"}))\n",
        "\n",
        "    train_ds = train_ds.map(tokenize_batch, batched=True)\n",
        "    test_ds = test_ds.map(tokenize_batch, batched=True)\n",
        "\n",
        "    train_ds.set_format(type=\"torch\", columns=[\"input_ids\",\"attention_mask\",\"labels\"])\n",
        "    test_ds.set_format(type=\"torch\", columns=[\"input_ids\",\"attention_mask\",\"labels\"])\n",
        "\n",
        "    return train_ds, test_ds, test_df, tokenizer"
      ]
    },
    {
      "cell_type": "code",
      "execution_count": null,
      "metadata": {
        "id": "NlH_GWqUPa8l"
      },
      "outputs": [],
      "source": [
        "# Training Modello\n",
        "\n",
        "def train_model(train_ds, test_ds):\n",
        "    #Training\n",
        "\n",
        "    #scarta la vecchia testa di classificazione (3 etichette)\n",
        "    model = AutoModelForSequenceClassification.from_pretrained(\n",
        "        MODEL,\n",
        "        num_labels=2,\n",
        "        ignore_mismatched_sizes=True #IGNORA I NEUTRALI\n",
        "    )\n",
        "\n",
        "    os.environ[\"WANDB_DISABLED\"] = \"true\"\n",
        "\n",
        "    args = TrainingArguments(\n",
        "        output_dir=\"./hf_retrained_model\",\n",
        "        per_device_train_batch_size=BATCH,\n",
        "        per_device_eval_batch_size=BATCH,\n",
        "        num_train_epochs=3,\n",
        "        save_strategy=\"epoch\",\n",
        "        eval_strategy=\"steps\",\n",
        "        eval_steps=200,\n",
        "        learning_rate=2e-5,\n",
        "        logging_steps=50,\n",
        "        disable_tqdm=False,\n",
        "    )\n",
        "\n",
        "    trainer = Trainer(model=model, args=args, train_dataset=train_ds, eval_dataset=test_ds, compute_metrics=compute_metrics)\n",
        "\n",
        "    trainer.train()\n",
        "    trainer.save_model(\"./hf_retrained_model\")\n",
        "\n",
        "    return trainer, model"
      ]
    },
    {
      "cell_type": "code",
      "execution_count": null,
      "metadata": {
        "id": "ZfSbE3TuPa_M"
      },
      "outputs": [],
      "source": [
        "# Valutazione e Plot\n",
        "\n",
        "def evaluate_and_plot(trainer, model, tokenizer, test_ds, test_df):\n",
        "    # Plot Training Loss\n",
        "    train_losses = [log['loss'] for log in trainer.state.log_history if 'loss' in log]\n",
        "    steps_train = [log['step'] for log in trainer.state.log_history if 'loss' in log]\n",
        "\n",
        "    plt.figure(figsize=(10, 5))\n",
        "    plt.plot(steps_train, train_losses, 'b-', linewidth=2, marker='o', markersize=4)\n",
        "    plt.xlabel('Step', fontsize=12)\n",
        "    plt.ylabel('Loss', fontsize=12)\n",
        "    plt.title('Training Loss', fontsize=14, fontweight='bold')\n",
        "    plt.grid(True, alpha=0.3)\n",
        "    plt.tight_layout()\n",
        "    plt.show()\n",
        "\n",
        "    print(\"\\nTRAINING SUMMARY\")\n",
        "    print(f\"Initial Loss: {train_losses[0]:.4f}\")\n",
        "    print(f\"Final Loss: {train_losses[-1]:.4f}\")\n",
        "    print(f\"Loss Reduction: {100*(train_losses[0]-train_losses[-1])/train_losses[0]:.1f}%\")\n",
        "\n",
        "    #Evaluation Base\n",
        "    pred_output = trainer.predict(test_ds)\n",
        "    logits = pred_output.predictions\n",
        "    probs = softmax(logits, axis=1)\n",
        "    preds = np.argmax(probs, axis=1)\n",
        "    labels = pred_output.label_ids\n",
        "\n",
        "    acc = accuracy_score(labels, preds)\n",
        "    f1 = f1_score(labels, preds, average=\"weighted\", zero_division=0)\n",
        "\n",
        "    print(f\"Accuracy: {acc:.4f}\")\n",
        "    print(f\"F1: {f1:.4f}\")\n",
        "    print(\"\\n\", classification_report(labels, preds, target_names=['Negativo', 'Positivo'], zero_division=0))\n",
        "\n",
        "    # Confusion Matrix\n",
        "    cm = confusion_matrix(labels, preds)\n",
        "    plt.figure(figsize=(6,5))\n",
        "    sns.heatmap(cm, annot=True, fmt='d', cmap='Blues', xticklabels=['Negativo', 'Positivo'], yticklabels=['Negativo', 'Positivo'])\n",
        "    plt.title(\"Confusion Matrix\", fontsize=14, fontweight='bold')\n",
        "    plt.xlabel(\"Predetto\", fontsize=12)\n",
        "    plt.ylabel(\"Vero\", fontsize=12)\n",
        "    plt.tight_layout()\n",
        "    plt.show()\n",
        "\n",
        "    # Low confidence\n",
        "    low_conf = []\n",
        "    for i in range(min(20, len(probs))):\n",
        "        top_score = float(np.max(probs[i]))\n",
        "        if top_score < LOW_CONF_THRESHOLD:\n",
        "            low_conf.append((i, int(labels[i]), int(np.argmax(probs[i])), top_score))\n",
        "\n",
        "    if low_conf:\n",
        "        print(f\"\\nLow confidence (<{LOW_CONF_THRESHOLD}): {len(low_conf)}\")\n",
        "\n",
        "    \"\"\"Il modello ha sbagliato quasi allo stesso modo per entrambe: ha confuso 123 Negativi per Positivi e 117 Positivi per Negativi.\n",
        "\n",
        "    Questo bilanciamento è OTTIMO Significa che il modello non è sbilanciato: non ha una preferenza nel classificare tutto come \"Positivo\" o \"Negativo\"\n",
        "    \"\"\"\n",
        "\n",
        "    # Pipeline Inferenza\n",
        "\n",
        "    # Dico al modello che l'etichetta 0 è \"negative\" e l'etichetta 1 è \"positive\"\n",
        "    print(\"Aggiornamento configurazione modello per 2 etichette...\")\n",
        "    model.config.id2label = { 0: 'negative', 1: 'positive' }\n",
        "    model.config.label2id = { 'negative': 0, 'positive': 1 }\n",
        "    print(\"Configurazione aggiornata.\")\n",
        "\n",
        "    #Creo la pipeline\n",
        "    sentiment_pipeline = pipeline(\n",
        "        \"sentiment-analysis\",\n",
        "        model=model,\n",
        "        tokenizer=tokenizer,\n",
        "        device=0 if torch.cuda.is_available() else -1\n",
        "    )\n",
        "\n",
        "    # Aggiorna la label_map\n",
        "    # Ora la pipeline restituirà solo \"negative\" o \"positive\".\n",
        "    label_map = {\n",
        "        \"negative\": \"Negativo\",\n",
        "        \"positive\": \"Positivo\"\n",
        "        # \"neutral\" non è più necessario\n",
        "    }\n",
        "\n",
        "    print(\"Pipeline di inferenza pronta e configurata correttamente.\")\n",
        "\n",
        "    # Test su 4 Tweet Random\n",
        "    predictions_list = []\n",
        "    random_samples = test_df.sample(4)\n",
        "\n",
        "    for index, row in random_samples.iterrows():\n",
        "        text_to_analyze = row['text_clean']\n",
        "        result = sentiment_pipeline(text_to_analyze)[0]\n",
        "        predicted_label = label_map.get(result['label'], 'Sconosciuto')\n",
        "        predicted_score = result['score']\n",
        "        print(f\"\\nTweet {index}:\")\n",
        "        print(f\"Testo: {text_to_analyze}\")\n",
        "        print(f\"Sentiment: {predicted_label} (Confidenza: {predicted_score:.3f})\")\n",
        "        predictions_list.append(predicted_label)\n",
        "\n",
        "    # Grafico dei 4 Tweet\n",
        "    results_series = pd.Series(predictions_list)\n",
        "    sentiment_counts = results_series.value_counts()\n",
        "    color_map = {'Negativo': '#FF6347', 'Neutrale': '#B0C4DE', 'Positivo': '#90EE90'}\n",
        "    ordered_counts = sentiment_counts.reindex(['Negativo', 'Neutrale', 'Positivo'], fill_value=0)\n",
        "\n",
        "    plt.figure(figsize=(6, 4))\n",
        "    ordered_counts.plot(kind='bar', color=[color_map.get(label, 'blue') for label in ordered_counts.index])\n",
        "    plt.title('Sentiment 4 Tweet Casuali')\n",
        "    plt.xlabel('Sentiment')\n",
        "    plt.ylabel('Count')\n",
        "    plt.xticks(rotation=0)\n",
        "    plt.grid(axis='y', linestyle='--', alpha=0.7)\n",
        "    plt.yticks(range(int(ordered_counts.max()) + 2))\n",
        "    plt.show()\n",
        "\n",
        "    #Grafico su TUTTO il Test Set\n",
        "    print(f\"\\nGRAFICO RIASSUNTIVO SU TUTTO IL TEST SET ({len(preds)} TWEET) ===\")\n",
        "\n",
        "    numeric_label_map = {\n",
        "        0: \"Negativo\",\n",
        "        1: \"Positivo\"\n",
        "        # 1 NON è Neutrale\n",
        "    }\n",
        "\n",
        "    # Converto l'array numpy 'preds' in una Serie di pandas\n",
        "    preds_series = pd.Series(preds)\n",
        "    mapped_preds = preds_series.map(numeric_label_map)\n",
        "    sentiment_counts = mapped_preds.value_counts()\n",
        "\n",
        "    #  plot\n",
        "    color_map = {'Negativo': 'tomato', 'Neutrale': 'lightsteelblue', 'Positivo': 'lightgreen'}    #ordine corretto per etichette\n",
        "    ordered_counts = sentiment_counts.reindex(['Negativo', 'Neutrale', 'Positivo'], fill_value=0)\n",
        "\n",
        "    plt.figure(figsize=(7, 5))\n",
        "    bars = ordered_counts.plot(\n",
        "        kind='bar',\n",
        "        color=[color_map.get(label, 'blue') for label in ordered_counts.index]\n",
        "    )\n",
        "\n",
        "    plt.title(f'Distribuzione Sentiment sull\\'Intero Test Set ({len(preds)} Tweet)')\n",
        "    plt.xlabel('Sentiment Predetto')\n",
        "    plt.ylabel('Numero di Tweet')\n",
        "    plt.xticks(rotation=0)\n",
        "    plt.grid(axis='y', linestyle='--', alpha=0.7)\n",
        "\n",
        "    for bar in bars.patches:\n",
        "        plt.annotate(format(bar.get_height(), '.0f'),\n",
        "                     (bar.get_x() + bar.get_width() / 2,\n",
        "                      bar.get_height()), ha='center', va='center',\n",
        "                     size=10, xytext=(0, 8),\n",
        "                     textcoords='offset points')\n",
        "\n",
        "    plt.ylim(top=ordered_counts.max() * 1.15)\n",
        "    plt.show()\n",
        "\n",
        "    #Grafici delle Curve di Validazione\n",
        "    print(\"\\nGRAFICI ANDAMENTO VALIDAZIONE\")\n",
        "\n",
        "    #tutti i log dalla cronologia del trainer\n",
        "    log_history = trainer.state.log_history\n",
        "\n",
        "    #Separa i log di training da quelli di valutazione\n",
        "    # Cerca solo i dizionari che contengono 'eval_loss'\n",
        "    eval_logs = [log for log in log_history if 'eval_loss' in log]\n",
        "\n",
        "    if not eval_logs:\n",
        "        print(\"Nessun log di valutazione trovato.\")\n",
        "        print(\"Assicurati che 'evaluation_strategy' e 'eval_steps' siano impostati in TrainingArguments.\")\n",
        "    else:\n",
        "        #Estraggo i valori per gli assi X e Y\n",
        "        steps = [log['step'] for log in eval_logs]\n",
        "        eval_losses = [log['eval_loss'] for log in eval_logs]\n",
        "        eval_accuracies = [log['eval_accuracy'] for log in eval_logs]\n",
        "\n",
        "        #grafici\n",
        "        fig, (ax1, ax2) = plt.subplots(1, 2, figsize=(14, 5))\n",
        "\n",
        "        # Grafico Validation Loss\n",
        "        ax1.plot(steps, eval_losses, marker='o', linestyle='--', color='red')\n",
        "        ax1.set_title('Validation Loss vs. Steps', fontsize=14, fontweight='bold')\n",
        "        ax1.set_xlabel('Steps')\n",
        "        ax1.set_ylabel('Loss')\n",
        "        ax1.grid(True, alpha=0.3)\n",
        "\n",
        "        # Grafico Validation Accuracy\n",
        "        ax2.plot(steps, eval_accuracies, marker='o', linestyle='--', color='green')\n",
        "        ax2.set_title('Validation Accuracy vs. Steps', fontsize=14, fontweight='bold')\n",
        "        ax2.set_xlabel('Steps')\n",
        "        ax2.set_ylabel('Accuracy')\n",
        "        ax2.grid(True, alpha=0.3)\n",
        "\n",
        "        plt.tight_layout()\n",
        "        plt.show()\n",
        "\n",
        "    return"
      ]
    },
    {
      "cell_type": "code",
      "execution_count": null,
      "metadata": {
        "colab": {
          "base_uri": "https://localhost:8080/",
          "height": 1000,
          "referenced_widgets": [
            "8734207e9c2d4048b1f4764c823cd6af",
            "5385db8237694ad58d07189a870fbba9",
            "efed95d3f99f4a4d9a9e882b5adb2486",
            "ae284681a9f24ec1a12ae0d0b9b8a403",
            "de42887b584a4eacad03ab362780f634",
            "faa566ec08b54c50a9a2a4f9c4198c46",
            "22543ce5cf434c0aab10a299a13e3f65",
            "670a42cedfe148d8a52d559cee134030",
            "729a30df8a40494fbe335b19de5a9022",
            "2e3b6c4fd4864fde8e03b9411ae24a82",
            "3551a93333944345bdbd4dc684bf3c18",
            "d2c39f2d4e1e40f8bd469ebb2e67f124",
            "06abaf374e00465ab74f1d2dd6483ae0",
            "46b096f5696e4653bd5c11c335064e37",
            "8168c373efed4fb6a8fb76f7b5f46f5b",
            "ad9154b672d14e13ae4f170896cb4090",
            "5d5087d5f373499dae5e2919bdc59911",
            "406bba972bed456b86919fbe8ea1f3cd",
            "bfcad12683714838b95a194ae90ce87a",
            "642f920fbd6c4b9eb5d9056f28f402af",
            "7d0e0331aaf84940803a73f5b4df86cb",
            "f81944727aa646a38cb8744e20b351da"
          ]
        },
        "id": "AAQdN15gPbB1",
        "outputId": "0140b7ae-f6d0-4e9c-be8c-9a831799a9ee"
      },
      "outputs": [
        {
          "metadata": {
            "tags": null
          },
          "name": "stderr",
          "output_type": "stream",
          "text": [
            "/tmp/ipython-input-2475597980.py:23: DeprecationWarning: DataFrameGroupBy.apply operated on the grouping columns. This behavior is deprecated, and in a future version of pandas the grouping columns will be excluded from the operation. Either pass `include_groups=False` to exclude the groupings or explicitly select the grouping columns after groupby to silence this warning.\n",
            "  df = df.groupby(\"target\").apply(lambda x: x.sample(min(len(x), SAMPLE_SIZE//2), random_state=42)).reset_index(drop=True)\n"
          ]
        },
        {
          "metadata": {
            "tags": null
          },
          "name": "stdout",
          "output_type": "stream",
          "text": [
            "Train: 8500, Test: 1500\n",
            "Distribuzione: {0: 5000, 1: 5000}\n"
          ]
        },
        {
          "data": {
            "application/vnd.jupyter.widget-view+json": {
              "model_id": "8734207e9c2d4048b1f4764c823cd6af",
              "version_major": 2,
              "version_minor": 0
            },
            "text/plain": [
              "Map:   0%|          | 0/8500 [00:00<?, ? examples/s]"
            ]
          },
          "metadata": {},
          "output_type": "display_data"
        },
        {
          "data": {
            "application/vnd.jupyter.widget-view+json": {
              "model_id": "d2c39f2d4e1e40f8bd469ebb2e67f124",
              "version_major": 2,
              "version_minor": 0
            },
            "text/plain": [
              "Map:   0%|          | 0/1500 [00:00<?, ? examples/s]"
            ]
          },
          "metadata": {},
          "output_type": "display_data"
        },
        {
          "metadata": {
            "tags": null
          },
          "name": "stderr",
          "output_type": "stream",
          "text": [
            "Some weights of the model checkpoint at cardiffnlp/twitter-roberta-base-sentiment-latest were not used when initializing RobertaForSequenceClassification: ['roberta.pooler.dense.bias', 'roberta.pooler.dense.weight']\n",
            "- This IS expected if you are initializing RobertaForSequenceClassification from the checkpoint of a model trained on another task or with another architecture (e.g. initializing a BertForSequenceClassification model from a BertForPreTraining model).\n",
            "- This IS NOT expected if you are initializing RobertaForSequenceClassification from the checkpoint of a model that you expect to be exactly identical (initializing a BertForSequenceClassification model from a BertForSequenceClassification model).\n",
            "Some weights of RobertaForSequenceClassification were not initialized from the model checkpoint at cardiffnlp/twitter-roberta-base-sentiment-latest and are newly initialized because the shapes did not match:\n",
            "- classifier.out_proj.weight: found shape torch.Size([3, 768]) in the checkpoint and torch.Size([2, 768]) in the model instantiated\n",
            "- classifier.out_proj.bias: found shape torch.Size([3]) in the checkpoint and torch.Size([2]) in the model instantiated\n",
            "You should probably TRAIN this model on a down-stream task to be able to use it for predictions and inference.\n",
            "Using the `WANDB_DISABLED` environment variable is deprecated and will be removed in v5. Use the --report_to flag to control the integrations used for logging result (for instance --report_to none).\n"
          ]
        },
        {
          "data": {
            "text/html": [
              "\n",
              "    <div>\n",
              "      \n",
              "      <progress value='1371' max='1596' style='width:300px; height:20px; vertical-align: middle;'></progress>\n",
              "      [1371/1596 04:09 < 00:40, 5.49 it/s, Epoch 2.58/3]\n",
              "    </div>\n",
              "    <table border=\"1\" class=\"dataframe\">\n",
              "  <thead>\n",
              " <tr style=\"text-align: left;\">\n",
              "      <th>Step</th>\n",
              "      <th>Training Loss</th>\n",
              "      <th>Validation Loss</th>\n",
              "      <th>Accuracy</th>\n",
              "      <th>F1</th>\n",
              "    </tr>\n",
              "  </thead>\n",
              "  <tbody>\n",
              "    <tr>\n",
              "      <td>200</td>\n",
              "      <td>0.420500</td>\n",
              "      <td>0.371059</td>\n",
              "      <td>0.837333</td>\n",
              "      <td>0.837329</td>\n",
              "    </tr>\n",
              "    <tr>\n",
              "      <td>400</td>\n",
              "      <td>0.408000</td>\n",
              "      <td>0.359053</td>\n",
              "      <td>0.834000</td>\n",
              "      <td>0.833938</td>\n",
              "    </tr>\n",
              "    <tr>\n",
              "      <td>600</td>\n",
              "      <td>0.245000</td>\n",
              "      <td>0.462492</td>\n",
              "      <td>0.836667</td>\n",
              "      <td>0.836614</td>\n",
              "    </tr>\n",
              "    <tr>\n",
              "      <td>800</td>\n",
              "      <td>0.261900</td>\n",
              "      <td>0.424614</td>\n",
              "      <td>0.837333</td>\n",
              "      <td>0.837332</td>\n",
              "    </tr>\n",
              "    <tr>\n",
              "      <td>1000</td>\n",
              "      <td>0.284600</td>\n",
              "      <td>0.432042</td>\n",
              "      <td>0.848000</td>\n",
              "      <td>0.847892</td>\n",
              "    </tr>\n",
              "    <tr>\n",
              "      <td>1200</td>\n",
              "      <td>0.152600</td>\n",
              "      <td>0.589227</td>\n",
              "      <td>0.844667</td>\n",
              "      <td>0.844665</td>\n",
              "    </tr>\n",
              "  </tbody>\n",
              "</table><p>"
            ],
            "text/plain": [
              "<IPython.core.display.HTML object>"
            ]
          },
          "metadata": {},
          "output_type": "display_data"
        },
        {
          "output_type": "display_data",
          "data": {
            "text/plain": [
              "<IPython.core.display.HTML object>"
            ],
            "text/html": [
              "\n",
              "    <div>\n",
              "      \n",
              "      <progress value='1596' max='1596' style='width:300px; height:20px; vertical-align: middle;'></progress>\n",
              "      [1596/1596 04:53, Epoch 3/3]\n",
              "    </div>\n",
              "    <table border=\"1\" class=\"dataframe\">\n",
              "  <thead>\n",
              " <tr style=\"text-align: left;\">\n",
              "      <th>Step</th>\n",
              "      <th>Training Loss</th>\n",
              "      <th>Validation Loss</th>\n",
              "      <th>Accuracy</th>\n",
              "      <th>F1</th>\n",
              "    </tr>\n",
              "  </thead>\n",
              "  <tbody>\n",
              "    <tr>\n",
              "      <td>200</td>\n",
              "      <td>0.420500</td>\n",
              "      <td>0.371059</td>\n",
              "      <td>0.837333</td>\n",
              "      <td>0.837329</td>\n",
              "    </tr>\n",
              "    <tr>\n",
              "      <td>400</td>\n",
              "      <td>0.408000</td>\n",
              "      <td>0.359053</td>\n",
              "      <td>0.834000</td>\n",
              "      <td>0.833938</td>\n",
              "    </tr>\n",
              "    <tr>\n",
              "      <td>600</td>\n",
              "      <td>0.245000</td>\n",
              "      <td>0.462492</td>\n",
              "      <td>0.836667</td>\n",
              "      <td>0.836614</td>\n",
              "    </tr>\n",
              "    <tr>\n",
              "      <td>800</td>\n",
              "      <td>0.261900</td>\n",
              "      <td>0.424614</td>\n",
              "      <td>0.837333</td>\n",
              "      <td>0.837332</td>\n",
              "    </tr>\n",
              "    <tr>\n",
              "      <td>1000</td>\n",
              "      <td>0.284600</td>\n",
              "      <td>0.432042</td>\n",
              "      <td>0.848000</td>\n",
              "      <td>0.847892</td>\n",
              "    </tr>\n",
              "    <tr>\n",
              "      <td>1200</td>\n",
              "      <td>0.152600</td>\n",
              "      <td>0.589227</td>\n",
              "      <td>0.844667</td>\n",
              "      <td>0.844665</td>\n",
              "    </tr>\n",
              "    <tr>\n",
              "      <td>1400</td>\n",
              "      <td>0.219700</td>\n",
              "      <td>0.544681</td>\n",
              "      <td>0.850000</td>\n",
              "      <td>0.849981</td>\n",
              "    </tr>\n",
              "  </tbody>\n",
              "</table><p>"
            ]
          },
          "metadata": {}
        },
        {
          "output_type": "display_data",
          "data": {
            "text/plain": [
              "<Figure size 1000x500 with 1 Axes>"
            ],
            "image/png": "[encoded data removed]"
          },
          "metadata": {}
        },
        {
          "output_type": "stream",
          "name": "stdout",
          "text": [
            "\n",
            "TRAINING SUMMARY\n",
            "Initial Loss: 0.5042\n",
            "Final Loss: 0.1455\n",
            "Loss Reduction: 71.1%\n"
          ]
        },
        {
          "output_type": "display_data",
          "data": {
            "text/plain": [
              "<IPython.core.display.HTML object>"
            ],
            "text/html": []
          },
          "metadata": {}
        },
        {
          "output_type": "stream",
          "name": "stdout",
          "text": [
            "Accuracy: 0.8520\n",
            "F1: 0.8520\n",
            "\n",
            "               precision    recall  f1-score   support\n",
            "\n",
            "    Negativo       0.85      0.85      0.85       750\n",
            "    Positivo       0.85      0.85      0.85       750\n",
            "\n",
            "    accuracy                           0.85      1500\n",
            "   macro avg       0.85      0.85      0.85      1500\n",
            "weighted avg       0.85      0.85      0.85      1500\n",
            "\n"
          ]
        },
        {
          "output_type": "display_data",
          "data": {
            "text/plain": [
              "<Figure size 600x500 with 2 Axes>"
            ],
            "image/png": "[encoded data removed]"
          },
          "metadata": {}
        },
        {
          "output_type": "stream",
          "name": "stderr",
          "text": [
            "Device set to use cuda:0\n"
          ]
        },
        {
          "output_type": "stream",
          "name": "stdout",
          "text": [
            "Aggiornamento configurazione modello per 2 etichette...\n",
            "Configurazione aggiornata.\n",
            "Pipeline di inferenza pronta e configurata correttamente.\n",
            "\n",
            "Tweet 7105:\n",
            "Testo: @user it will be better after father's day when we meet up in florida haha. hows everything will you?\n",
            "Sentiment: Positivo (Confidenza: 0.994)\n",
            "\n",
            "Tweet 2777:\n",
            "Testo: Hahaha yeah except i have no money\n",
            "Sentiment: Negativo (Confidenza: 0.996)\n",
            "\n",
            "Tweet 1625:\n",
            "Testo: why aren't all my friends' updates appearing on my page?\n",
            "Sentiment: Negativo (Confidenza: 0.996)\n",
            "\n",
            "Tweet 4869:\n",
            "Testo: Damn! Playin all this bball. So much for my french pedicure.\n",
            "Sentiment: Negativo (Confidenza: 0.997)\n"
          ]
        },
        {
          "output_type": "display_data",
          "data": {
            "text/plain": [
              "<Figure size 600x400 with 1 Axes>"
            ],
            "image/png": "[encoded data removed]"
          },
          "metadata": {}
        },
        {
          "output_type": "stream",
          "name": "stdout",
          "text": [
            "\n",
            "GRAFICO RIASSUNTIVO SU TUTTO IL TEST SET (1500 TWEET) ===\n"
          ]
        },
        {
          "output_type": "display_data",
          "data": {
            "text/plain": [
              "<Figure size 700x500 with 1 Axes>"
            ],
            "image/png": "[encoded data removed]"
          },
          "metadata": {}
        },
        {
          "output_type": "stream",
          "name": "stdout",
          "text": [
            "\n",
            "GRAFICI ANDAMENTO VALIDAZIONE\n"
          ]
        },
        {
          "output_type": "display_data",
          "data": {
            "text/plain": [
              "<Figure size 1400x500 with 2 Axes>"
            ],
            "image/png": "[encoded data removed]"
          },
          "metadata": {}
        }
      ],
      "source": [
        "# Esecuzione del Flusso Principale\n",
        "\n",
        "train_ds, test_ds, test_df, tokenizer = load_and_preprocess_data()\n",
        "trainer, model = train_model(train_ds, test_ds)\n",
        "evaluate_and_plot(trainer, model, tokenizer, test_ds, test_df)"
      ]
    },
    {
      "cell_type": "code",
      "execution_count": null,
      "metadata": {
        "colab": {
          "base_uri": "https://localhost:8080/",
          "height": 36
        },
        "id": "aW2_9-CkPbEd",
        "outputId": "2a22bf86-333c-4ba5-838a-e04d85369ec4"
      },
      "outputs": [
        {
          "output_type": "execute_result",
          "data": {
            "text/plain": [
              "'https://github.com/Luffyconqueredhaki/Sentiment-analysis-for-firm-monitoring-online\\n\\nhttps://huggingface.co/FlavioRubensOttaviani/Sentiment-analysis-for-firm-monitoring-online/blob/main/Progetto_HF_GITHUB_PROAI_MLOPS_OTTAVIANI_FLAVIO_RUBENS_7.ipynb\\n'"
            ],
            "application/vnd.google.colaboratory.intrinsic+json": {
              "type": "string"
            }
          },
          "metadata": {},
          "execution_count": 14
        }
      ],
      "source": [
        "#LINK REPO GIT E HF\n",
        "\n",
        "\"\"\"https://github.com/Luffyconqueredhaki/Sentiment-analysis-for-firm-monitoring-online\n",
        "\n",
        "https://huggingface.co/FlavioRubensOttaviani/Sentiment-analysis-for-firm-monitoring-online/blob/main/Progetto_HF_GITHUB_PROAI_MLOPS_OTTAVIANI_FLAVIO_RUBENS_7.ipynb\n",
        "\"\"\""
      ]
    },
    {
      "cell_type": "code",
      "execution_count": null,
      "metadata": {
        "id": "WCmcbmwlPbG9"
      },
      "outputs": [],
      "source": []
    },
    {
      "cell_type": "code",
      "execution_count": null,
      "metadata": {
        "id": "7iNTLc3cPbJt"
      },
      "outputs": [],
      "source": []
    },
    {
      "cell_type": "code",
      "execution_count": null,
      "metadata": {
        "id": "3LsfciOJPbMN"
      },
      "outputs": [],
      "source": []
    },
    {
      "cell_type": "code",
      "execution_count": null,
      "metadata": {
        "id": "eg_V1F3VPbOl"
      },
      "outputs": [],
      "source": []
    },
    {
      "cell_type": "code",
      "execution_count": null,
      "metadata": {
        "id": "iYIeVyhpPbQl"
      },
      "outputs": [],
      "source": []
    },
    {
      "cell_type": "code",
      "execution_count": null,
      "metadata": {
        "id": "zsLJavxQPTv0"
      },
      "outputs": [],
      "source": []
    },
    {
      "cell_type": "code",
      "execution_count": null,
      "metadata": {
        "id": "NfSf8vbOPTx8"
      },
      "outputs": [],
      "source": []
    },
    {
      "cell_type": "code",
      "execution_count": null,
      "metadata": {
        "id": "vgxybeYLPT2U"
      },
      "outputs": [],
      "source": []
    },
    {
      "cell_type": "code",
      "execution_count": null,
      "metadata": {
        "id": "AwOfbeenPT5E"
      },
      "outputs": [],
      "source": []
    },
    {
      "cell_type": "code",
      "execution_count": null,
      "metadata": {
        "id": "QWrXssefPT7l"
      },
      "outputs": [],
      "source": []
    },
    {
      "cell_type": "code",
      "execution_count": null,
      "metadata": {
        "id": "UEytdJrwPT99"
      },
      "outputs": [],
      "source": []
    },
    {
      "cell_type": "code",
      "execution_count": null,
      "metadata": {
        "id": "iadWSUh0PUAk"
      },
      "outputs": [],
      "source": []
    },
    {
      "cell_type": "code",
      "execution_count": null,
      "metadata": {
        "id": "GbJHReAePUC8"
      },
      "outputs": [],
      "source": []
    },
    {
      "cell_type": "code",
      "execution_count": null,
      "metadata": {
        "id": "enUeNlA3PUFc"
      },
      "outputs": [],
      "source": []
    }
  ],
  "metadata": {
    "accelerator": "GPU",
    "colab": {
      "gpuType": "L4",
      "machine_shape": "hm",
      "provenance": []
    },
    "kernelspec": {
      "display_name": "Python 3",
      "name": "python3"
    },
    "language_info": {
      "name": "python"
    },
    "widgets": {
      "application/vnd.jupyter.widget-state+json": {
        "8734207e9c2d4048b1f4764c823cd6af": {
          "model_module": "@jupyter-widgets/controls",
          "model_name": "HBoxModel",
          "model_module_version": "1.5.0",
          "state": {
            "_dom_classes": [],
            "_model_module": "@jupyter-widgets/controls",
            "_model_module_version": "1.5.0",
            "_model_name": "HBoxModel",
            "_view_count": null,
            "_view_module": "@jupyter-widgets/controls",
            "_view_module_version": "1.5.0",
            "_view_name": "HBoxView",
            "box_style": "",
            "children": [
              "IPY_MODEL_5385db8237694ad58d07189a870fbba9",
              "IPY_MODEL_efed95d3f99f4a4d9a9e882b5adb2486",
              "IPY_MODEL_ae284681a9f24ec1a12ae0d0b9b8a403"
            ],
            "layout": "IPY_MODEL_de42887b584a4eacad03ab362780f634"
          }
        },
        "5385db8237694ad58d07189a870fbba9": {
          "model_module": "@jupyter-widgets/controls",
          "model_name": "HTMLModel",
          "model_module_version": "1.5.0",
          "state": {
            "_dom_classes": [],
            "_model_module": "@jupyter-widgets/controls",
            "_model_module_version": "1.5.0",
            "_model_name": "HTMLModel",
            "_view_count": null,
            "_view_module": "@jupyter-widgets/controls",
            "_view_module_version": "1.5.0",
            "_view_name": "HTMLView",
            "description": "",
            "description_tooltip": null,
            "layout": "IPY_MODEL_faa566ec08b54c50a9a2a4f9c4198c46",
            "placeholder": "​",
            "style": "IPY_MODEL_22543ce5cf434c0aab10a299a13e3f65",
            "value": "Map: 100%"
          }
        },
        "efed95d3f99f4a4d9a9e882b5adb2486": {
          "model_module": "@jupyter-widgets/controls",
          "model_name": "FloatProgressModel",
          "model_module_version": "1.5.0",
          "state": {
            "_dom_classes": [],
            "_model_module": "@jupyter-widgets/controls",
            "_model_module_version": "1.5.0",
            "_model_name": "FloatProgressModel",
            "_view_count": null,
            "_view_module": "@jupyter-widgets/controls",
            "_view_module_version": "1.5.0",
            "_view_name": "ProgressView",
            "bar_style": "success",
            "description": "",
            "description_tooltip": null,
            "layout": "IPY_MODEL_670a42cedfe148d8a52d559cee134030",
            "max": 8500,
            "min": 0,
            "orientation": "horizontal",
            "style": "IPY_MODEL_729a30df8a40494fbe335b19de5a9022",
            "value": 8500
          }
        },
        "ae284681a9f24ec1a12ae0d0b9b8a403": {
          "model_module": "@jupyter-widgets/controls",
          "model_name": "HTMLModel",
          "model_module_version": "1.5.0",
          "state": {
            "_dom_classes": [],
            "_model_module": "@jupyter-widgets/controls",
            "_model_module_version": "1.5.0",
            "_model_name": "HTMLModel",
            "_view_count": null,
            "_view_module": "@jupyter-widgets/controls",
            "_view_module_version": "1.5.0",
            "_view_name": "HTMLView",
            "description": "",
            "description_tooltip": null,
            "layout": "IPY_MODEL_2e3b6c4fd4864fde8e03b9411ae24a82",
            "placeholder": "​",
            "style": "IPY_MODEL_3551a93333944345bdbd4dc684bf3c18",
            "value": " 8500/8500 [00:00&lt;00:00, 15807.13 examples/s]"
          }
        },
        "de42887b584a4eacad03ab362780f634": {
          "model_module": "@jupyter-widgets/base",
          "model_name": "LayoutModel",
          "model_module_version": "1.2.0",
          "state": {
            "_model_module": "@jupyter-widgets/base",
            "_model_module_version": "1.2.0",
            "_model_name": "LayoutModel",
            "_view_count": null,
            "_view_module": "@jupyter-widgets/base",
            "_view_module_version": "1.2.0",
            "_view_name": "LayoutView",
            "align_content": null,
            "align_items": null,
            "align_self": null,
            "border": null,
            "bottom": null,
            "display": null,
            "flex": null,
            "flex_flow": null,
            "grid_area": null,
            "grid_auto_columns": null,
            "grid_auto_flow": null,
            "grid_auto_rows": null,
            "grid_column": null,
            "grid_gap": null,
            "grid_row": null,
            "grid_template_areas": null,
            "grid_template_columns": null,
            "grid_template_rows": null,
            "height": null,
            "justify_content": null,
            "justify_items": null,
            "left": null,
            "margin": null,
            "max_height": null,
            "max_width": null,
            "min_height": null,
            "min_width": null,
            "object_fit": null,
            "object_position": null,
            "order": null,
            "overflow": null,
            "overflow_x": null,
            "overflow_y": null,
            "padding": null,
            "right": null,
            "top": null,
            "visibility": null,
            "width": null
          }
        },
        "faa566ec08b54c50a9a2a4f9c4198c46": {
          "model_module": "@jupyter-widgets/base",
          "model_name": "LayoutModel",
          "model_module_version": "1.2.0",
          "state": {
            "_model_module": "@jupyter-widgets/base",
            "_model_module_version": "1.2.0",
            "_model_name": "LayoutModel",
            "_view_count": null,
            "_view_module": "@jupyter-widgets/base",
            "_view_module_version": "1.2.0",
            "_view_name": "LayoutView",
            "align_content": null,
            "align_items": null,
            "align_self": null,
            "border": null,
            "bottom": null,
            "display": null,
            "flex": null,
            "flex_flow": null,
            "grid_area": null,
            "grid_auto_columns": null,
            "grid_auto_flow": null,
            "grid_auto_rows": null,
            "grid_column": null,
            "grid_gap": null,
            "grid_row": null,
            "grid_template_areas": null,
            "grid_template_columns": null,
            "grid_template_rows": null,
            "height": null,
            "justify_content": null,
            "justify_items": null,
            "left": null,
            "margin": null,
            "max_height": null,
            "max_width": null,
            "min_height": null,
            "min_width": null,
            "object_fit": null,
            "object_position": null,
            "order": null,
            "overflow": null,
            "overflow_x": null,
            "overflow_y": null,
            "padding": null,
            "right": null,
            "top": null,
            "visibility": null,
            "width": null
          }
        },
        "22543ce5cf434c0aab10a299a13e3f65": {
          "model_module": "@jupyter-widgets/controls",
          "model_name": "DescriptionStyleModel",
          "model_module_version": "1.5.0",
          "state": {
            "_model_module": "@jupyter-widgets/controls",
            "_model_module_version": "1.5.0",
            "_model_name": "DescriptionStyleModel",
            "_view_count": null,
            "_view_module": "@jupyter-widgets/base",
            "_view_module_version": "1.2.0",
            "_view_name": "StyleView",
            "description_width": ""
          }
        },
        "670a42cedfe148d8a52d559cee134030": {
          "model_module": "@jupyter-widgets/base",
          "model_name": "LayoutModel",
          "model_module_version": "1.2.0",
          "state": {
            "_model_module": "@jupyter-widgets/base",
            "_model_module_version": "1.2.0",
            "_model_name": "LayoutModel",
            "_view_count": null,
            "_view_module": "@jupyter-widgets/base",
            "_view_module_version": "1.2.0",
            "_view_name": "LayoutView",
            "align_content": null,
            "align_items": null,
            "align_self": null,
            "border": null,
            "bottom": null,
            "display": null,
            "flex": null,
            "flex_flow": null,
            "grid_area": null,
            "grid_auto_columns": null,
            "grid_auto_flow": null,
            "grid_auto_rows": null,
            "grid_column": null,
            "grid_gap": null,
            "grid_row": null,
            "grid_template_areas": null,
            "grid_template_columns": null,
            "grid_template_rows": null,
            "height": null,
            "justify_content": null,
            "justify_items": null,
            "left": null,
            "margin": null,
            "max_height": null,
            "max_width": null,
            "min_height": null,
            "min_width": null,
            "object_fit": null,
            "object_position": null,
            "order": null,
            "overflow": null,
            "overflow_x": null,
            "overflow_y": null,
            "padding": null,
            "right": null,
            "top": null,
            "visibility": null,
            "width": null
          }
        },
        "729a30df8a40494fbe335b19de5a9022": {
          "model_module": "@jupyter-widgets/controls",
          "model_name": "ProgressStyleModel",
          "model_module_version": "1.5.0",
          "state": {
            "_model_module": "@jupyter-widgets/controls",
            "_model_module_version": "1.5.0",
            "_model_name": "ProgressStyleModel",
            "_view_count": null,
            "_view_module": "@jupyter-widgets/base",
            "_view_module_version": "1.2.0",
            "_view_name": "StyleView",
            "bar_color": null,
            "description_width": ""
          }
        },
        "2e3b6c4fd4864fde8e03b9411ae24a82": {
          "model_module": "@jupyter-widgets/base",
          "model_name": "LayoutModel",
          "model_module_version": "1.2.0",
          "state": {
            "_model_module": "@jupyter-widgets/base",
            "_model_module_version": "1.2.0",
            "_model_name": "LayoutModel",
            "_view_count": null,
            "_view_module": "@jupyter-widgets/base",
            "_view_module_version": "1.2.0",
            "_view_name": "LayoutView",
            "align_content": null,
            "align_items": null,
            "align_self": null,
            "border": null,
            "bottom": null,
            "display": null,
            "flex": null,
            "flex_flow": null,
            "grid_area": null,
            "grid_auto_columns": null,
            "grid_auto_flow": null,
            "grid_auto_rows": null,
            "grid_column": null,
            "grid_gap": null,
            "grid_row": null,
            "grid_template_areas": null,
            "grid_template_columns": null,
            "grid_template_rows": null,
            "height": null,
            "justify_content": null,
            "justify_items": null,
            "left": null,
            "margin": null,
            "max_height": null,
            "max_width": null,
            "min_height": null,
            "min_width": null,
            "object_fit": null,
            "object_position": null,
            "order": null,
            "overflow": null,
            "overflow_x": null,
            "overflow_y": null,
            "padding": null,
            "right": null,
            "top": null,
            "visibility": null,
            "width": null
          }
        },
        "3551a93333944345bdbd4dc684bf3c18": {
          "model_module": "@jupyter-widgets/controls",
          "model_name": "DescriptionStyleModel",
          "model_module_version": "1.5.0",
          "state": {
            "_model_module": "@jupyter-widgets/controls",
            "_model_module_version": "1.5.0",
            "_model_name": "DescriptionStyleModel",
            "_view_count": null,
            "_view_module": "@jupyter-widgets/base",
            "_view_module_version": "1.2.0",
            "_view_name": "StyleView",
            "description_width": ""
          }
        },
        "d2c39f2d4e1e40f8bd469ebb2e67f124": {
          "model_module": "@jupyter-widgets/controls",
          "model_name": "HBoxModel",
          "model_module_version": "1.5.0",
          "state": {
            "_dom_classes": [],
            "_model_module": "@jupyter-widgets/controls",
            "_model_module_version": "1.5.0",
            "_model_name": "HBoxModel",
            "_view_count": null,
            "_view_module": "@jupyter-widgets/controls",
            "_view_module_version": "1.5.0",
            "_view_name": "HBoxView",
            "box_style": "",
            "children": [
              "IPY_MODEL_06abaf374e00465ab74f1d2dd6483ae0",
              "IPY_MODEL_46b096f5696e4653bd5c11c335064e37",
              "IPY_MODEL_8168c373efed4fb6a8fb76f7b5f46f5b"
            ],
            "layout": "IPY_MODEL_ad9154b672d14e13ae4f170896cb4090"
          }
        },
        "06abaf374e00465ab74f1d2dd6483ae0": {
          "model_module": "@jupyter-widgets/controls",
          "model_name": "HTMLModel",
          "model_module_version": "1.5.0",
          "state": {
            "_dom_classes": [],
            "_model_module": "@jupyter-widgets/controls",
            "_model_module_version": "1.5.0",
            "_model_name": "HTMLModel",
            "_view_count": null,
            "_view_module": "@jupyter-widgets/controls",
            "_view_module_version": "1.5.0",
            "_view_name": "HTMLView",
            "description": "",
            "description_tooltip": null,
            "layout": "IPY_MODEL_5d5087d5f373499dae5e2919bdc59911",
            "placeholder": "​",
            "style": "IPY_MODEL_406bba972bed456b86919fbe8ea1f3cd",
            "value": "Map: 100%"
          }
        },
        "46b096f5696e4653bd5c11c335064e37": {
          "model_module": "@jupyter-widgets/controls",
          "model_name": "FloatProgressModel",
          "model_module_version": "1.5.0",
          "state": {
            "_dom_classes": [],
            "_model_module": "@jupyter-widgets/controls",
            "_model_module_version": "1.5.0",
            "_model_name": "FloatProgressModel",
            "_view_count": null,
            "_view_module": "@jupyter-widgets/controls",
            "_view_module_version": "1.5.0",
            "_view_name": "ProgressView",
            "bar_style": "success",
            "description": "",
            "description_tooltip": null,
            "layout": "IPY_MODEL_bfcad12683714838b95a194ae90ce87a",
            "max": 1500,
            "min": 0,
            "orientation": "horizontal",
            "style": "IPY_MODEL_642f920fbd6c4b9eb5d9056f28f402af",
            "value": 1500
          }
        },
        "8168c373efed4fb6a8fb76f7b5f46f5b": {
          "model_module": "@jupyter-widgets/controls",
          "model_name": "HTMLModel",
          "model_module_version": "1.5.0",
          "state": {
            "_dom_classes": [],
            "_model_module": "@jupyter-widgets/controls",
            "_model_module_version": "1.5.0",
            "_model_name": "HTMLModel",
            "_view_count": null,
            "_view_module": "@jupyter-widgets/controls",
            "_view_module_version": "1.5.0",
            "_view_name": "HTMLView",
            "description": "",
            "description_tooltip": null,
            "layout": "IPY_MODEL_7d0e0331aaf84940803a73f5b4df86cb",
            "placeholder": "​",
            "style": "IPY_MODEL_f81944727aa646a38cb8744e20b351da",
            "value": " 1500/1500 [00:00&lt;00:00, 14492.03 examples/s]"
          }
        },
        "ad9154b672d14e13ae4f170896cb4090": {
          "model_module": "@jupyter-widgets/base",
          "model_name": "LayoutModel",
          "model_module_version": "1.2.0",
          "state": {
            "_model_module": "@jupyter-widgets/base",
            "_model_module_version": "1.2.0",
            "_model_name": "LayoutModel",
            "_view_count": null,
            "_view_module": "@jupyter-widgets/base",
            "_view_module_version": "1.2.0",
            "_view_name": "LayoutView",
            "align_content": null,
            "align_items": null,
            "align_self": null,
            "border": null,
            "bottom": null,
            "display": null,
            "flex": null,
            "flex_flow": null,
            "grid_area": null,
            "grid_auto_columns": null,
            "grid_auto_flow": null,
            "grid_auto_rows": null,
            "grid_column": null,
            "grid_gap": null,
            "grid_row": null,
            "grid_template_areas": null,
            "grid_template_columns": null,
            "grid_template_rows": null,
            "height": null,
            "justify_content": null,
            "justify_items": null,
            "left": null,
            "margin": null,
            "max_height": null,
            "max_width": null,
            "min_height": null,
            "min_width": null,
            "object_fit": null,
            "object_position": null,
            "order": null,
            "overflow": null,
            "overflow_x": null,
            "overflow_y": null,
            "padding": null,
            "right": null,
            "top": null,
            "visibility": null,
            "width": null
          }
        },
        "5d5087d5f373499dae5e2919bdc59911": {
          "model_module": "@jupyter-widgets/base",
          "model_name": "LayoutModel",
          "model_module_version": "1.2.0",
          "state": {
            "_model_module": "@jupyter-widgets/base",
            "_model_module_version": "1.2.0",
            "_model_name": "LayoutModel",
            "_view_count": null,
            "_view_module": "@jupyter-widgets/base",
            "_view_module_version": "1.2.0",
            "_view_name": "LayoutView",
            "align_content": null,
            "align_items": null,
            "align_self": null,
            "border": null,
            "bottom": null,
            "display": null,
            "flex": null,
            "flex_flow": null,
            "grid_area": null,
            "grid_auto_columns": null,
            "grid_auto_flow": null,
            "grid_auto_rows": null,
            "grid_column": null,
            "grid_gap": null,
            "grid_row": null,
            "grid_template_areas": null,
            "grid_template_columns": null,
            "grid_template_rows": null,
            "height": null,
            "justify_content": null,
            "justify_items": null,
            "left": null,
            "margin": null,
            "max_height": null,
            "max_width": null,
            "min_height": null,
            "min_width": null,
            "object_fit": null,
            "object_position": null,
            "order": null,
            "overflow": null,
            "overflow_x": null,
            "overflow_y": null,
            "padding": null,
            "right": null,
            "top": null,
            "visibility": null,
            "width": null
          }
        },
        "406bba972bed456b86919fbe8ea1f3cd": {
          "model_module": "@jupyter-widgets/controls",
          "model_name": "DescriptionStyleModel",
          "model_module_version": "1.5.0",
          "state": {
            "_model_module": "@jupyter-widgets/controls",
            "_model_module_version": "1.5.0",
            "_model_name": "DescriptionStyleModel",
            "_view_count": null,
            "_view_module": "@jupyter-widgets/base",
            "_view_module_version": "1.2.0",
            "_view_name": "StyleView",
            "description_width": ""
          }
        },
        "bfcad12683714838b95a194ae90ce87a": {
          "model_module": "@jupyter-widgets/base",
          "model_name": "LayoutModel",
          "model_module_version": "1.2.0",
          "state": {
            "_model_module": "@jupyter-widgets/base",
            "_model_module_version": "1.2.0",
            "_model_name": "LayoutModel",
            "_view_count": null,
            "_view_module": "@jupyter-widgets/base",
            "_view_module_version": "1.2.0",
            "_view_name": "LayoutView",
            "align_content": null,
            "align_items": null,
            "align_self": null,
            "border": null,
            "bottom": null,
            "display": null,
            "flex": null,
            "flex_flow": null,
            "grid_area": null,
            "grid_auto_columns": null,
            "grid_auto_flow": null,
            "grid_auto_rows": null,
            "grid_column": null,
            "grid_gap": null,
            "grid_row": null,
            "grid_template_areas": null,
            "grid_template_columns": null,
            "grid_template_rows": null,
            "height": null,
            "justify_content": null,
            "justify_items": null,
            "left": null,
            "margin": null,
            "max_height": null,
            "max_width": null,
            "min_height": null,
            "min_width": null,
            "object_fit": null,
            "object_position": null,
            "order": null,
            "overflow": null,
            "overflow_x": null,
            "overflow_y": null,
            "padding": null,
            "right": null,
            "top": null,
            "visibility": null,
            "width": null
          }
        },
        "642f920fbd6c4b9eb5d9056f28f402af": {
          "model_module": "@jupyter-widgets/controls",
          "model_name": "ProgressStyleModel",
          "model_module_version": "1.5.0",
          "state": {
            "_model_module": "@jupyter-widgets/controls",
            "_model_module_version": "1.5.0",
            "_model_name": "ProgressStyleModel",
            "_view_count": null,
            "_view_module": "@jupyter-widgets/base",
            "_view_module_version": "1.2.0",
            "_view_name": "StyleView",
            "bar_color": null,
            "description_width": ""
          }
        },
        "7d0e0331aaf84940803a73f5b4df86cb": {
          "model_module": "@jupyter-widgets/base",
          "model_name": "LayoutModel",
          "model_module_version": "1.2.0",
          "state": {
            "_model_module": "@jupyter-widgets/base",
            "_model_module_version": "1.2.0",
            "_model_name": "LayoutModel",
            "_view_count": null,
            "_view_module": "@jupyter-widgets/base",
            "_view_module_version": "1.2.0",
            "_view_name": "LayoutView",
            "align_content": null,
            "align_items": null,
            "align_self": null,
            "border": null,
            "bottom": null,
            "display": null,
            "flex": null,
            "flex_flow": null,
            "grid_area": null,
            "grid_auto_columns": null,
            "grid_auto_flow": null,
            "grid_auto_rows": null,
            "grid_column": null,
            "grid_gap": null,
            "grid_row": null,
            "grid_template_areas": null,
            "grid_template_columns": null,
            "grid_template_rows": null,
            "height": null,
            "justify_content": null,
            "justify_items": null,
            "left": null,
            "margin": null,
            "max_height": null,
            "max_width": null,
            "min_height": null,
            "min_width": null,
            "object_fit": null,
            "object_position": null,
            "order": null,
            "overflow": null,
            "overflow_x": null,
            "overflow_y": null,
            "padding": null,
            "right": null,
            "top": null,
            "visibility": null,
            "width": null
          }
        },
        "f81944727aa646a38cb8744e20b351da": {
          "model_module": "@jupyter-widgets/controls",
          "model_name": "DescriptionStyleModel",
          "model_module_version": "1.5.0",
          "state": {
            "_model_module": "@jupyter-widgets/controls",
            "_model_module_version": "1.5.0",
            "_model_name": "DescriptionStyleModel",
            "_view_count": null,
            "_view_module": "@jupyter-widgets/base",
            "_view_module_version": "1.2.0",
            "_view_name": "StyleView",
            "description_width": ""
          }
        }
      }
    }
  },
  "nbformat": 4,
  "nbformat_minor": 0
}